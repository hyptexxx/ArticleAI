{
 "cells": [
  {
   "cell_type": "code",
   "execution_count": 1,
   "metadata": {},
   "outputs": [],
   "source": [
    "import numpy as np\n",
    "import matplotlib.pyplot as plt\n",
    "from sklearn.datasets import make_blobs\n",
    "from sklearn.metrics import silhouette_score\n",
    "from sklearn.cluster import KMeans\n",
    "from tqdm import tqdm\n",
    "import pandas as pd\n",
    "import string\n",
    "from typing import Optional"
   ]
  },
  {
   "cell_type": "code",
   "execution_count": 4,
   "metadata": {},
   "outputs": [
    {
     "name": "stdout",
     "output_type": "stream",
     "text": [
      "Collecting navec\n",
      "  Using cached navec-0.10.0-py3-none-any.whl (23 kB)\n",
      "Requirement already satisfied: numpy in /home/user/conda/lib/python3.7/site-packages (from navec) (1.19.2)\n",
      "Installing collected packages: navec\n",
      "Successfully installed navec-0.10.0\n"
     ]
    }
   ],
   "source": [
    "#!pip install navec"
   ]
  },
  {
   "cell_type": "code",
   "execution_count": 5,
   "metadata": {},
   "outputs": [],
   "source": [
    "from navec import Navec\n",
    "path = 'navec_hudlit_v1_12B_500K_300d_100q.tar'\n",
    "navec = Navec.load(path)"
   ]
  },
  {
   "cell_type": "code",
   "execution_count": 6,
   "metadata": {},
   "outputs": [],
   "source": [
    "data = pd.read_csv('book_new_1.csv', header=None)"
   ]
  },
  {
   "cell_type": "code",
   "execution_count": 7,
   "metadata": {
    "scrolled": false
   },
   "outputs": [
    {
     "data": {
      "text/html": [
       "<div>\n",
       "<style scoped>\n",
       "    .dataframe tbody tr th:only-of-type {\n",
       "        vertical-align: middle;\n",
       "    }\n",
       "\n",
       "    .dataframe tbody tr th {\n",
       "        vertical-align: top;\n",
       "    }\n",
       "\n",
       "    .dataframe thead th {\n",
       "        text-align: right;\n",
       "    }\n",
       "</style>\n",
       "<table border=\"1\" class=\"dataframe\">\n",
       "  <thead>\n",
       "    <tr style=\"text-align: right;\">\n",
       "      <th></th>\n",
       "      <th>0</th>\n",
       "    </tr>\n",
       "  </thead>\n",
       "  <tbody>\n",
       "    <tr>\n",
       "      <th>0</th>\n",
       "      <td>электронная торговля</td>\n",
       "    </tr>\n",
       "    <tr>\n",
       "      <th>1</th>\n",
       "      <td>локальные и глобальные экстремумы</td>\n",
       "    </tr>\n",
       "    <tr>\n",
       "      <th>2</th>\n",
       "      <td>перекредитование</td>\n",
       "    </tr>\n",
       "    <tr>\n",
       "      <th>3</th>\n",
       "      <td>робототехника</td>\n",
       "    </tr>\n",
       "    <tr>\n",
       "      <th>4</th>\n",
       "      <td>процессное управление</td>\n",
       "    </tr>\n",
       "    <tr>\n",
       "      <th>...</th>\n",
       "      <td>...</td>\n",
       "    </tr>\n",
       "    <tr>\n",
       "      <th>938</th>\n",
       "      <td>предприятие</td>\n",
       "    </tr>\n",
       "    <tr>\n",
       "      <th>939</th>\n",
       "      <td>кредитные ресурсы</td>\n",
       "    </tr>\n",
       "    <tr>\n",
       "      <th>940</th>\n",
       "      <td>рентабельность чистой прибыли</td>\n",
       "    </tr>\n",
       "    <tr>\n",
       "      <th>941</th>\n",
       "      <td>региональные вузы</td>\n",
       "    </tr>\n",
       "    <tr>\n",
       "      <th>942</th>\n",
       "      <td>модернизация</td>\n",
       "    </tr>\n",
       "  </tbody>\n",
       "</table>\n",
       "<p>943 rows × 1 columns</p>\n",
       "</div>"
      ],
      "text/plain": [
       "                                     0\n",
       "0                 электронная торговля\n",
       "1    локальные и глобальные экстремумы\n",
       "2                     перекредитование\n",
       "3                        робототехника\n",
       "4                процессное управление\n",
       "..                                 ...\n",
       "938                        предприятие\n",
       "939                  кредитные ресурсы\n",
       "940      рентабельность чистой прибыли\n",
       "941                  региональные вузы\n",
       "942                       модернизация\n",
       "\n",
       "[943 rows x 1 columns]"
      ]
     },
     "execution_count": 7,
     "metadata": {},
     "output_type": "execute_result"
    }
   ],
   "source": [
    "data"
   ]
  },
  {
   "cell_type": "code",
   "execution_count": 8,
   "metadata": {},
   "outputs": [],
   "source": [
    "class PhraseEmbeddings:\n",
    "    def __init__(self, phrase, embbedings):\n",
    "        self.phrase: string = phrase\n",
    "        self.embbedings: [float] = embbedings\n",
    "\n",
    "def calculateEmbeddingsForSplittedPhrase(phrase: [string]) -> Optional[PhraseEmbeddings]:\n",
    "    embeddings: [[]] = []\n",
    "        \n",
    "    for word in phrase:\n",
    "        tempEmbedding = navec.get(word)\n",
    "\n",
    "        if tempEmbedding is not None:\n",
    "            embeddings.append(tempEmbedding)\n",
    "\n",
    "    if len(embeddings) != 0:\n",
    "        return PhraseEmbeddings(' '.join(phrase), np.mean(embeddings, axis=0))\n",
    "    else:\n",
    "        # return None -> if navec could not determine the embeddings of all words of the phrase.\n",
    "        return None"
   ]
  },
  {
   "cell_type": "code",
   "execution_count": 9,
   "metadata": {},
   "outputs": [],
   "source": [
    "emb = []\n",
    "phrases = []\n",
    "i = 0\n",
    "for row in data[0]:\n",
    "    if len(row.split()) == 1:\n",
    "        res = navec.get(row)\n",
    "        if res is not None:\n",
    "            emb.append(res)\n",
    "            phrases.append(row)\n",
    "    else:\n",
    "        res = calculateEmbeddingsForSplittedPhrase(np.array(row.split()))\n",
    "        if res is not None:\n",
    "            emb.append(res.embbedings)\n",
    "            phrases.append(row)"
   ]
  },
  {
   "cell_type": "code",
   "execution_count": 10,
   "metadata": {},
   "outputs": [],
   "source": [
    "Z = np.array(phrases)"
   ]
  },
  {
   "cell_type": "code",
   "execution_count": 11,
   "metadata": {},
   "outputs": [
    {
     "data": {
      "text/plain": [
       "(907,)"
      ]
     },
     "execution_count": 11,
     "metadata": {},
     "output_type": "execute_result"
    }
   ],
   "source": [
    "Z.shape"
   ]
  },
  {
   "cell_type": "code",
   "execution_count": 12,
   "metadata": {
    "scrolled": true
   },
   "outputs": [],
   "source": [
    "X = np.array(emb)"
   ]
  },
  {
   "cell_type": "code",
   "execution_count": 13,
   "metadata": {},
   "outputs": [
    {
     "data": {
      "text/plain": [
       "(907, 300)"
      ]
     },
     "execution_count": 13,
     "metadata": {},
     "output_type": "execute_result"
    }
   ],
   "source": [
    "X.shape"
   ]
  },
  {
   "cell_type": "code",
   "execution_count": 14,
   "metadata": {},
   "outputs": [],
   "source": [
    "#np.random.seed(48)"
   ]
  },
  {
   "cell_type": "code",
   "execution_count": 15,
   "metadata": {
    "scrolled": true
   },
   "outputs": [
    {
     "name": "stderr",
     "output_type": "stream",
     "text": [
      "100%|██████████| 99/99 [1:17:01<00:00, 46.68s/it]\n"
     ]
    }
   ],
   "source": [
    "sil = []\n",
    "dist = []\n",
    "k_min = 2\n",
    "k_max = 100\n",
    "\n",
    "for k in tqdm(range(k_min,k_max+1)):\n",
    "    kmm = KMeans(n_clusters=k, random_state=1).fit(X)\n",
    "    \n",
    "    y_pred = kmm.predict(X)\n",
    "    sil1 = silhouette_score(X, y_pred)\n",
    "    sil.append(sil1)\n",
    "    \n",
    "    dist1 = kmm.inertia_\n",
    "    dist.append(dist1)"
   ]
  },
  {
   "cell_type": "code",
   "execution_count": 16,
   "metadata": {},
   "outputs": [
    {
     "name": "stdout",
     "output_type": "stream",
     "text": [
      "[0.044075936, 0.040718675, 0.057109945, 0.050700944, 0.050753772, 0.04956129, 0.05132573, 0.051298693, 0.049972795, 0.049719613, 0.045606494, 0.042824734, 0.044597723, 0.046354864, 0.046706945, 0.042477418, 0.038826052, 0.03535749, 0.03462264, 0.04114742, 0.041886028, 0.043231744, 0.04717238, 0.04920038, 0.049299162, 0.05160298, 0.047018394, 0.044694725, 0.053979922, 0.041687764, 0.04483925, 0.046030357, 0.048638333, 0.04936119, 0.050030723, 0.051564537, 0.052620884, 0.053886596, 0.05582872, 0.06022384, 0.060238283, 0.06148409, 0.06289135, 0.06282781, 0.06709829, 0.06871759, 0.06557316, 0.06508238, 0.07100362, 0.06431453, 0.0707326, 0.06370637, 0.07340894, 0.06430472, 0.065081045, 0.06685665, 0.06781995, 0.06938539, 0.06890666, 0.07278966, 0.07292229, 0.07313927, 0.0731354, 0.074069865, 0.06913903, 0.07516727, 0.07538703, 0.0774237, 0.07666832, 0.07781031, 0.07935605, 0.07984177, 0.08152451, 0.083024554, 0.08434229, 0.08559198, 0.08397164, 0.085019484, 0.086654924, 0.08812449, 0.08850634, 0.08856581, 0.08686401, 0.08854331, 0.08905871, 0.08681227, 0.086537555, 0.088954285, 0.089420736, 0.08985481, 0.09033706, 0.0914525, 0.09299372, 0.09271839, 0.092011504, 0.09316015, 0.09372093, 0.09568172, 0.094978705]\n"
     ]
    }
   ],
   "source": [
    "print(sil)"
   ]
  },
  {
   "cell_type": "code",
   "execution_count": 17,
   "metadata": {},
   "outputs": [
    {
     "name": "stdout",
     "output_type": "stream",
     "text": [
      "[18571.203125, 17973.25, 17440.98046875, 16992.916015625, 16625.697265625, 16376.5830078125, 16165.947265625, 15990.5810546875, 15865.3408203125, 15669.1767578125, 15483.5068359375, 15320.7158203125, 15231.5263671875, 15093.251953125, 14975.2734375, 14849.8876953125, 14800.169921875, 14728.578125, 14680.2392578125, 14560.3359375, 14435.0517578125, 14368.8681640625, 14276.4091796875, 14141.4501953125, 14127.4755859375, 14048.8740234375, 13957.65625, 13897.978515625, 13817.2138671875, 13748.00390625, 13642.345703125, 13585.640625, 13503.91015625, 13436.826171875, 13391.6650390625, 13327.8701171875, 13236.1123046875, 13165.6181640625, 13113.451171875, 13011.8701171875, 12987.3515625, 12909.53125, 12857.88671875, 12789.6083984375, 12681.921875, 12624.0595703125, 12613.6591796875, 12535.7578125, 12404.7822265625, 12436.765625, 12356.294921875, 12336.23828125, 12240.0478515625, 12155.04296875, 12115.7880859375, 12028.818359375, 11986.3466796875, 11916.8232421875, 11853.1669921875, 11790.298828125, 11755.8486328125, 11727.171875, 11701.7373046875, 11657.8466796875, 11638.1923828125, 11581.2724609375, 11539.4384765625, 11454.2001953125, 11434.1728515625, 11399.4580078125, 11341.6904296875, 11308.4462890625, 11249.888671875, 11209.8095703125, 11161.9599609375, 11076.2822265625, 11071.9609375, 10995.291015625, 10928.8291015625, 10866.7529296875, 10819.9775390625, 10807.3994140625, 10788.0224609375, 10727.314453125, 10689.888671875, 10699.41796875, 10672.552734375, 10601.7939453125, 10546.0009765625, 10505.576171875, 10469.544921875, 10440.291015625, 10405.1015625, 10393.720703125, 10371.259765625, 10336.5029296875, 10295.7548828125, 10257.2763671875, 10208.2099609375]\n"
     ]
    }
   ],
   "source": [
    "print(dist)"
   ]
  },
  {
   "cell_type": "code",
   "execution_count": 18,
   "metadata": {
    "scrolled": false
   },
   "outputs": [
    {
     "data": {
      "image/png": "[encoded data removed]",
      "text/plain": [
       "<Figure size 432x288 with 1 Axes>"
      ]
     },
     "metadata": {
      "needs_background": "light"
     },
     "output_type": "display_data"
    },
    {
     "data": {
      "image/png": "[encoded data removed]",
      "text/plain": [
       "<Figure size 432x288 with 1 Axes>"
      ]
     },
     "metadata": {
      "needs_background": "light"
     },
     "output_type": "display_data"
    }
   ],
   "source": [
    "plt.plot(range(k_min,k_max+1), sil)\n",
    "plt.show()\n",
    "\n",
    "plt.plot(range(k_min,k_max+1), dist)\n",
    "plt.show()"
   ]
  },
  {
   "cell_type": "code",
   "execution_count": null,
   "metadata": {},
   "outputs": [],
   "source": [
    "k = 4\n",
    "kmm = KMeans(n_clusters=k, random_state=1)\n",
    "kmm.fit(X)"
   ]
  },
  {
   "cell_type": "code",
   "execution_count": null,
   "metadata": {},
   "outputs": [],
   "source": [
    "y_pred = kmm.labels_\n",
    "plt.hist(y_pred, bins=k)"
   ]
  },
  {
   "cell_type": "code",
   "execution_count": null,
   "metadata": {},
   "outputs": [],
   "source": [
    "clusters = kmm.cluster_centers_\n",
    "clusters.shape"
   ]
  },
  {
   "cell_type": "code",
   "execution_count": null,
   "metadata": {},
   "outputs": [],
   "source": [
    "pd.DataFrame(clusters).to_csv('cluster_centers_27_03_21.csv', header=False)"
   ]
  },
  {
   "cell_type": "code",
   "execution_count": null,
   "metadata": {},
   "outputs": [],
   "source": [
    "len(y_pred)"
   ]
  },
  {
   "cell_type": "code",
   "execution_count": null,
   "metadata": {
    "scrolled": false
   },
   "outputs": [],
   "source": [
    "topics = []\n",
    "\n",
    "for i, y in enumerate(y_pred):\n",
    "    topics.append([Z[i], y])"
   ]
  },
  {
   "cell_type": "code",
   "execution_count": null,
   "metadata": {
    "scrolled": true
   },
   "outputs": [],
   "source": [
    "dft = pd.DataFrame(topics, columns=['phrase','cluster'])"
   ]
  },
  {
   "cell_type": "code",
   "execution_count": null,
   "metadata": {
    "scrolled": true
   },
   "outputs": [],
   "source": [
    "dft"
   ]
  },
  {
   "cell_type": "code",
   "execution_count": null,
   "metadata": {},
   "outputs": [],
   "source": [
    "dft.to_csv('clustering_27_03_21.csv')"
   ]
  }
 ],
 "metadata": {
  "kernelspec": {
   "display_name": "Python 3",
   "language": "python",
   "name": "python3"
  },
  "language_info": {
   "codemirror_mode": {
    "name": "ipython",
    "version": 3
   },
   "file_extension": ".py",
   "mimetype": "text/x-python",
   "name": "python",
   "nbconvert_exporter": "python",
   "pygments_lexer": "ipython3",
   "version": "3.7.6"
  }
 },
 "nbformat": 4,
 "nbformat_minor": 4
}
