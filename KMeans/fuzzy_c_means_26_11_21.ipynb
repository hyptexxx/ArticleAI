{
 "cells": [
  {
   "cell_type": "code",
   "execution_count": 1,
   "metadata": {},
   "outputs": [],
   "source": [
    "import numpy as np\n",
    "import matplotlib.pyplot as plt\n",
    "import pandas as pd\n",
    "import string\n",
    "from typing import Optional\n",
    "from fcmeans import FCM\n",
    "from sklearn.decomposition import PCA"
   ]
  },
  {
   "cell_type": "code",
   "execution_count": 2,
   "metadata": {},
   "outputs": [],
   "source": [
    "from navec import Navec\n",
    "path = 'navec_hudlit_v1_12B_500K_300d_100q.tar'\n",
    "navec = Navec.load(path)"
   ]
  },
  {
   "cell_type": "code",
   "execution_count": 3,
   "metadata": {},
   "outputs": [],
   "source": [
    "data = pd.read_csv('book_new.csv', header=None)"
   ]
  },
  {
   "cell_type": "code",
   "execution_count": 4,
   "metadata": {
    "scrolled": false
   },
   "outputs": [
    {
     "data": {
      "text/html": [
       "<div>\n",
       "<style scoped>\n",
       "    .dataframe tbody tr th:only-of-type {\n",
       "        vertical-align: middle;\n",
       "    }\n",
       "\n",
       "    .dataframe tbody tr th {\n",
       "        vertical-align: top;\n",
       "    }\n",
       "\n",
       "    .dataframe thead th {\n",
       "        text-align: right;\n",
       "    }\n",
       "</style>\n",
       "<table border=\"1\" class=\"dataframe\">\n",
       "  <thead>\n",
       "    <tr style=\"text-align: right;\">\n",
       "      <th></th>\n",
       "      <th>0</th>\n",
       "    </tr>\n",
       "  </thead>\n",
       "  <tbody>\n",
       "    <tr>\n",
       "      <th>0</th>\n",
       "      <td>электронная торговля</td>\n",
       "    </tr>\n",
       "    <tr>\n",
       "      <th>1</th>\n",
       "      <td>локальные и глобальные экстремумы</td>\n",
       "    </tr>\n",
       "    <tr>\n",
       "      <th>2</th>\n",
       "      <td>перекредитование</td>\n",
       "    </tr>\n",
       "    <tr>\n",
       "      <th>3</th>\n",
       "      <td>робототехника</td>\n",
       "    </tr>\n",
       "    <tr>\n",
       "      <th>4</th>\n",
       "      <td>процессное управление</td>\n",
       "    </tr>\n",
       "    <tr>\n",
       "      <th>...</th>\n",
       "      <td>...</td>\n",
       "    </tr>\n",
       "    <tr>\n",
       "      <th>938</th>\n",
       "      <td>предприятие</td>\n",
       "    </tr>\n",
       "    <tr>\n",
       "      <th>939</th>\n",
       "      <td>кредитные ресурсы</td>\n",
       "    </tr>\n",
       "    <tr>\n",
       "      <th>940</th>\n",
       "      <td>рентабельность чистой прибыли</td>\n",
       "    </tr>\n",
       "    <tr>\n",
       "      <th>941</th>\n",
       "      <td>региональные вузы</td>\n",
       "    </tr>\n",
       "    <tr>\n",
       "      <th>942</th>\n",
       "      <td>модернизация</td>\n",
       "    </tr>\n",
       "  </tbody>\n",
       "</table>\n",
       "<p>943 rows × 1 columns</p>\n",
       "</div>"
      ],
      "text/plain": [
       "                                     0\n",
       "0                 электронная торговля\n",
       "1    локальные и глобальные экстремумы\n",
       "2                     перекредитование\n",
       "3                        робототехника\n",
       "4                процессное управление\n",
       "..                                 ...\n",
       "938                        предприятие\n",
       "939                  кредитные ресурсы\n",
       "940      рентабельность чистой прибыли\n",
       "941                  региональные вузы\n",
       "942                       модернизация\n",
       "\n",
       "[943 rows x 1 columns]"
      ]
     },
     "execution_count": 4,
     "metadata": {},
     "output_type": "execute_result"
    }
   ],
   "source": [
    "data"
   ]
  },
  {
   "cell_type": "code",
   "execution_count": 5,
   "metadata": {},
   "outputs": [],
   "source": [
    "class PhraseEmbeddings:\n",
    "    def __init__(self, phrase, embbedings):\n",
    "        self.phrase: string = phrase\n",
    "        self.embbedings: [float] = embbedings\n",
    "\n",
    "def calculateEmbeddingsForSplittedPhrase(phrase: [string]) -> Optional[PhraseEmbeddings]:\n",
    "    embeddings: [[]] = []\n",
    "        \n",
    "    for word in phrase:\n",
    "        tempEmbedding = navec.get(word)\n",
    "\n",
    "        if tempEmbedding is not None:\n",
    "            embeddings.append(tempEmbedding)\n",
    "\n",
    "    if len(embeddings) != 0:\n",
    "        return PhraseEmbeddings(' '.join(phrase), np.mean(embeddings, axis=0))\n",
    "    else:\n",
    "        # return None -> if navec could not determine the embeddings of all words of the phrase.\n",
    "        return None"
   ]
  },
  {
   "cell_type": "code",
   "execution_count": 6,
   "metadata": {},
   "outputs": [],
   "source": [
    "emb = []\n",
    "phrases = []\n",
    "i = 0\n",
    "for row in data[0]:\n",
    "    if len(row.split()) == 1:\n",
    "        res = navec.get(row)\n",
    "        if res is not None:\n",
    "            emb.append(res)\n",
    "            phrases.append(row)\n",
    "    else:\n",
    "        res = calculateEmbeddingsForSplittedPhrase(np.array(row.split()))\n",
    "        if res is not None:\n",
    "            emb.append(res.embbedings)\n",
    "            phrases.append(row)"
   ]
  },
  {
   "cell_type": "code",
   "execution_count": 7,
   "metadata": {},
   "outputs": [],
   "source": [
    "Z = np.array(phrases)"
   ]
  },
  {
   "cell_type": "code",
   "execution_count": 8,
   "metadata": {},
   "outputs": [
    {
     "data": {
      "text/plain": [
       "(907,)"
      ]
     },
     "execution_count": 8,
     "metadata": {},
     "output_type": "execute_result"
    }
   ],
   "source": [
    "Z.shape"
   ]
  },
  {
   "cell_type": "code",
   "execution_count": 9,
   "metadata": {
    "scrolled": true
   },
   "outputs": [],
   "source": [
    "X = np.array(emb)"
   ]
  },
  {
   "cell_type": "code",
   "execution_count": 10,
   "metadata": {},
   "outputs": [
    {
     "data": {
      "text/plain": [
       "(907, 300)"
      ]
     },
     "execution_count": 10,
     "metadata": {},
     "output_type": "execute_result"
    }
   ],
   "source": [
    "X.shape"
   ]
  },
  {
   "cell_type": "code",
   "execution_count": 41,
   "metadata": {},
   "outputs": [
    {
     "data": {
      "text/plain": [
       "(907, 300)"
      ]
     },
     "execution_count": 41,
     "metadata": {},
     "output_type": "execute_result"
    }
   ],
   "source": [
    "d1 = pd.DataFrame(X)\n",
    "d1.shape"
   ]
  },
  {
   "cell_type": "code",
   "execution_count": 12,
   "metadata": {},
   "outputs": [],
   "source": [
    "#pd.DataFrame(X).to_csv('keywords_embeddingd_25_11_21.csv', header=False, index=False)"
   ]
  },
  {
   "cell_type": "code",
   "execution_count": 42,
   "metadata": {},
   "outputs": [
    {
     "data": {
      "text/plain": [
       "<fcmeans.fcm.FCM at 0xea62748>"
      ]
     },
     "execution_count": 42,
     "metadata": {},
     "output_type": "execute_result"
    }
   ],
   "source": [
    "k = 20\n",
    "fcm = FCM(n_clusters=k, random_state=1)\n",
    "fcm.fit(X)"
   ]
  },
  {
   "cell_type": "code",
   "execution_count": 43,
   "metadata": {},
   "outputs": [
    {
     "data": {
      "text/plain": [
       "(907, 20)"
      ]
     },
     "execution_count": 43,
     "metadata": {},
     "output_type": "execute_result"
    }
   ],
   "source": [
    "y_pred = fcm.u\n",
    "y_pred.shape"
   ]
  },
  {
   "cell_type": "code",
   "execution_count": 44,
   "metadata": {},
   "outputs": [],
   "source": [
    "clusters = fcm.centers"
   ]
  },
  {
   "cell_type": "code",
   "execution_count": 45,
   "metadata": {},
   "outputs": [
    {
     "data": {
      "text/plain": [
       "(20, 300)"
      ]
     },
     "execution_count": 45,
     "metadata": {},
     "output_type": "execute_result"
    }
   ],
   "source": [
    "d2 = pd.DataFrame(clusters)\n",
    "d2.shape"
   ]
  },
  {
   "cell_type": "code",
   "execution_count": 46,
   "metadata": {},
   "outputs": [
    {
     "data": {
      "text/plain": [
       "(13, 300)"
      ]
     },
     "execution_count": 46,
     "metadata": {},
     "output_type": "execute_result"
    }
   ],
   "source": [
    "d3 = pd.read_csv('publication.csv', header=None)\n",
    "d3.shape"
   ]
  },
  {
   "cell_type": "code",
   "execution_count": 18,
   "metadata": {},
   "outputs": [],
   "source": [
    "#pd.DataFrame(clusters).to_csv('cluster_centers_25_11_21.csv', header=False, index=False)"
   ]
  },
  {
   "cell_type": "code",
   "execution_count": 19,
   "metadata": {
    "scrolled": false
   },
   "outputs": [],
   "source": [
    "#topics = []\n",
    "\n",
    "#for i_word, y in enumerate(y_pred):\n",
    " #   for i, e in enumerate(y):\n",
    "  #      if e > 1/k:\n",
    "   #         topics.append([Z[i_word], i, (e-1/k)*1e8])"
   ]
  },
  {
   "cell_type": "code",
   "execution_count": 20,
   "metadata": {
    "scrolled": true
   },
   "outputs": [],
   "source": [
    "#dft = pd.DataFrame(topics, columns=['Ключевая фраза','Кластер', 'Вес'])"
   ]
  },
  {
   "cell_type": "code",
   "execution_count": 21,
   "metadata": {
    "scrolled": true
   },
   "outputs": [],
   "source": [
    "#dft"
   ]
  },
  {
   "cell_type": "code",
   "execution_count": 47,
   "metadata": {},
   "outputs": [],
   "source": [
    "#dft.to_csv('clustering_14_04_21.csv')"
   ]
  },
  {
   "cell_type": "code",
   "execution_count": 48,
   "metadata": {},
   "outputs": [
    {
     "data": {
      "text/plain": [
       "(940, 301)"
      ]
     },
     "execution_count": 48,
     "metadata": {},
     "output_type": "execute_result"
    }
   ],
   "source": [
    "d1['target'] = 'Elements'\n",
    "d2['target'] = 'Centers'\n",
    "d3['target'] = 'Keywords'\n",
    "data = d1.append(d2).append(d3)\n",
    "data = data.reset_index(drop=True)\n",
    "data.shape"
   ]
  },
  {
   "cell_type": "code",
   "execution_count": 49,
   "metadata": {},
   "outputs": [
    {
     "data": {
      "text/plain": [
       "(940, 3)"
      ]
     },
     "execution_count": 49,
     "metadata": {},
     "output_type": "execute_result"
    }
   ],
   "source": [
    "pca = PCA(n_components=2)\n",
    "data_2d = pca.fit_transform(data.iloc[:,:-1])\n",
    "data_df = pd.DataFrame(data_2d)\n",
    "data_df['target'] = data['target']\n",
    "data_df.shape"
   ]
  },
  {
   "cell_type": "code",
   "execution_count": 51,
   "metadata": {
    "scrolled": true
   },
   "outputs": [
    {
     "data": {
      "image/png": "[encoded data removed]",
      "text/plain": [
       "<Figure size 576x576 with 1 Axes>"
      ]
     },
     "metadata": {
      "needs_background": "light"
     },
     "output_type": "display_data"
    }
   ],
   "source": [
    "fig = plt.figure(figsize = (8,8))\n",
    "ax = fig.add_subplot(1,1,1)\n",
    "\n",
    "targets = ['Elements', 'Centers', 'Keywords']\n",
    "colors = ['g', 'b', 'r']\n",
    "markers = ['o', 'o', 'o']\n",
    "\n",
    "for target, color, marker in zip(targets,colors,markers):\n",
    "    indicesToKeep = data_df['target'] == target\n",
    "    ax.scatter(data_df.loc[indicesToKeep, 0]\n",
    "               , data_df.loc[indicesToKeep, 1]\n",
    "               , c = color\n",
    "               , s = 25\n",
    "               , marker = marker\n",
    "              )\n",
    "ax.legend(targets)\n",
    "ax.grid()"
   ]
  },
  {
   "cell_type": "code",
   "execution_count": 26,
   "metadata": {
    "scrolled": true
   },
   "outputs": [
    {
     "data": {
      "text/html": [
       "<div>\n",
       "<style scoped>\n",
       "    .dataframe tbody tr th:only-of-type {\n",
       "        vertical-align: middle;\n",
       "    }\n",
       "\n",
       "    .dataframe tbody tr th {\n",
       "        vertical-align: top;\n",
       "    }\n",
       "\n",
       "    .dataframe thead th {\n",
       "        text-align: right;\n",
       "    }\n",
       "</style>\n",
       "<table border=\"1\" class=\"dataframe\">\n",
       "  <thead>\n",
       "    <tr style=\"text-align: right;\">\n",
       "      <th></th>\n",
       "      <th>0</th>\n",
       "      <th>1</th>\n",
       "      <th>2</th>\n",
       "      <th>3</th>\n",
       "      <th>4</th>\n",
       "      <th>5</th>\n",
       "      <th>6</th>\n",
       "      <th>7</th>\n",
       "      <th>8</th>\n",
       "      <th>9</th>\n",
       "      <th>...</th>\n",
       "      <th>292</th>\n",
       "      <th>293</th>\n",
       "      <th>294</th>\n",
       "      <th>295</th>\n",
       "      <th>296</th>\n",
       "      <th>297</th>\n",
       "      <th>298</th>\n",
       "      <th>299</th>\n",
       "      <th>target</th>\n",
       "      <th>cluster</th>\n",
       "    </tr>\n",
       "  </thead>\n",
       "  <tbody>\n",
       "    <tr>\n",
       "      <th>0</th>\n",
       "      <td>0.470398</td>\n",
       "      <td>0.112959</td>\n",
       "      <td>0.576481</td>\n",
       "      <td>0.284319</td>\n",
       "      <td>-0.299085</td>\n",
       "      <td>-0.224326</td>\n",
       "      <td>-0.123794</td>\n",
       "      <td>0.032323</td>\n",
       "      <td>0.204704</td>\n",
       "      <td>0.245813</td>\n",
       "      <td>...</td>\n",
       "      <td>-0.253576</td>\n",
       "      <td>-0.444092</td>\n",
       "      <td>0.272521</td>\n",
       "      <td>-0.530659</td>\n",
       "      <td>0.355826</td>\n",
       "      <td>0.271354</td>\n",
       "      <td>0.680932</td>\n",
       "      <td>-0.512406</td>\n",
       "      <td>Elements</td>\n",
       "      <td>14</td>\n",
       "    </tr>\n",
       "    <tr>\n",
       "      <th>1</th>\n",
       "      <td>0.049944</td>\n",
       "      <td>-0.155750</td>\n",
       "      <td>-0.163262</td>\n",
       "      <td>0.342427</td>\n",
       "      <td>0.344525</td>\n",
       "      <td>0.220851</td>\n",
       "      <td>0.145824</td>\n",
       "      <td>0.273347</td>\n",
       "      <td>0.079700</td>\n",
       "      <td>-0.416764</td>\n",
       "      <td>...</td>\n",
       "      <td>-0.085463</td>\n",
       "      <td>0.072925</td>\n",
       "      <td>0.030810</td>\n",
       "      <td>-0.426010</td>\n",
       "      <td>0.167298</td>\n",
       "      <td>0.435681</td>\n",
       "      <td>0.076551</td>\n",
       "      <td>0.146231</td>\n",
       "      <td>Elements</td>\n",
       "      <td>4</td>\n",
       "    </tr>\n",
       "    <tr>\n",
       "      <th>2</th>\n",
       "      <td>0.528656</td>\n",
       "      <td>0.087556</td>\n",
       "      <td>0.443964</td>\n",
       "      <td>-0.145310</td>\n",
       "      <td>-0.210084</td>\n",
       "      <td>-0.233264</td>\n",
       "      <td>0.310592</td>\n",
       "      <td>-0.061819</td>\n",
       "      <td>0.066595</td>\n",
       "      <td>0.219590</td>\n",
       "      <td>...</td>\n",
       "      <td>-0.423535</td>\n",
       "      <td>-0.439198</td>\n",
       "      <td>0.149286</td>\n",
       "      <td>0.226566</td>\n",
       "      <td>-0.068306</td>\n",
       "      <td>0.465650</td>\n",
       "      <td>0.187808</td>\n",
       "      <td>-0.547966</td>\n",
       "      <td>Elements</td>\n",
       "      <td>14</td>\n",
       "    </tr>\n",
       "    <tr>\n",
       "      <th>3</th>\n",
       "      <td>0.496091</td>\n",
       "      <td>-0.221561</td>\n",
       "      <td>0.102886</td>\n",
       "      <td>0.463391</td>\n",
       "      <td>-0.310837</td>\n",
       "      <td>-0.004631</td>\n",
       "      <td>-0.230791</td>\n",
       "      <td>-0.140402</td>\n",
       "      <td>0.273410</td>\n",
       "      <td>0.160696</td>\n",
       "      <td>...</td>\n",
       "      <td>-0.553314</td>\n",
       "      <td>-0.424678</td>\n",
       "      <td>0.583743</td>\n",
       "      <td>0.146704</td>\n",
       "      <td>-0.115241</td>\n",
       "      <td>-0.394309</td>\n",
       "      <td>0.059847</td>\n",
       "      <td>0.012294</td>\n",
       "      <td>Elements</td>\n",
       "      <td>5</td>\n",
       "    </tr>\n",
       "    <tr>\n",
       "      <th>4</th>\n",
       "      <td>0.325686</td>\n",
       "      <td>0.007507</td>\n",
       "      <td>0.568607</td>\n",
       "      <td>0.200070</td>\n",
       "      <td>0.303783</td>\n",
       "      <td>0.257717</td>\n",
       "      <td>-0.551907</td>\n",
       "      <td>-0.138469</td>\n",
       "      <td>0.155176</td>\n",
       "      <td>0.157008</td>\n",
       "      <td>...</td>\n",
       "      <td>-0.281144</td>\n",
       "      <td>-0.151199</td>\n",
       "      <td>0.285765</td>\n",
       "      <td>-0.678817</td>\n",
       "      <td>0.039957</td>\n",
       "      <td>0.485594</td>\n",
       "      <td>0.250473</td>\n",
       "      <td>0.650174</td>\n",
       "      <td>Elements</td>\n",
       "      <td>6</td>\n",
       "    </tr>\n",
       "    <tr>\n",
       "      <th>...</th>\n",
       "      <td>...</td>\n",
       "      <td>...</td>\n",
       "      <td>...</td>\n",
       "      <td>...</td>\n",
       "      <td>...</td>\n",
       "      <td>...</td>\n",
       "      <td>...</td>\n",
       "      <td>...</td>\n",
       "      <td>...</td>\n",
       "      <td>...</td>\n",
       "      <td>...</td>\n",
       "      <td>...</td>\n",
       "      <td>...</td>\n",
       "      <td>...</td>\n",
       "      <td>...</td>\n",
       "      <td>...</td>\n",
       "      <td>...</td>\n",
       "      <td>...</td>\n",
       "      <td>...</td>\n",
       "      <td>...</td>\n",
       "      <td>...</td>\n",
       "    </tr>\n",
       "    <tr>\n",
       "      <th>902</th>\n",
       "      <td>-0.039911</td>\n",
       "      <td>0.310089</td>\n",
       "      <td>-0.052410</td>\n",
       "      <td>0.690485</td>\n",
       "      <td>0.085759</td>\n",
       "      <td>-0.538098</td>\n",
       "      <td>-0.081525</td>\n",
       "      <td>-0.732197</td>\n",
       "      <td>0.128270</td>\n",
       "      <td>0.160696</td>\n",
       "      <td>...</td>\n",
       "      <td>-0.190175</td>\n",
       "      <td>-0.183027</td>\n",
       "      <td>-0.112056</td>\n",
       "      <td>0.058064</td>\n",
       "      <td>0.227423</td>\n",
       "      <td>-0.710195</td>\n",
       "      <td>0.474270</td>\n",
       "      <td>0.407580</td>\n",
       "      <td>Elements</td>\n",
       "      <td>18</td>\n",
       "    </tr>\n",
       "    <tr>\n",
       "      <th>903</th>\n",
       "      <td>-0.383756</td>\n",
       "      <td>0.240404</td>\n",
       "      <td>0.678290</td>\n",
       "      <td>0.307314</td>\n",
       "      <td>0.203173</td>\n",
       "      <td>-0.122892</td>\n",
       "      <td>-0.171259</td>\n",
       "      <td>-0.043626</td>\n",
       "      <td>-0.005897</td>\n",
       "      <td>-0.538416</td>\n",
       "      <td>...</td>\n",
       "      <td>0.495865</td>\n",
       "      <td>-0.275291</td>\n",
       "      <td>-0.508066</td>\n",
       "      <td>-0.477942</td>\n",
       "      <td>-0.214610</td>\n",
       "      <td>0.054864</td>\n",
       "      <td>0.455759</td>\n",
       "      <td>-0.196776</td>\n",
       "      <td>Elements</td>\n",
       "      <td>16</td>\n",
       "    </tr>\n",
       "    <tr>\n",
       "      <th>904</th>\n",
       "      <td>0.220746</td>\n",
       "      <td>-0.115841</td>\n",
       "      <td>-0.068942</td>\n",
       "      <td>0.492760</td>\n",
       "      <td>0.386467</td>\n",
       "      <td>0.067229</td>\n",
       "      <td>-0.147106</td>\n",
       "      <td>-0.217962</td>\n",
       "      <td>0.322650</td>\n",
       "      <td>-0.236095</td>\n",
       "      <td>...</td>\n",
       "      <td>-0.170360</td>\n",
       "      <td>0.219739</td>\n",
       "      <td>-0.176334</td>\n",
       "      <td>-0.161617</td>\n",
       "      <td>0.170335</td>\n",
       "      <td>0.026640</td>\n",
       "      <td>0.317188</td>\n",
       "      <td>0.440498</td>\n",
       "      <td>Elements</td>\n",
       "      <td>18</td>\n",
       "    </tr>\n",
       "    <tr>\n",
       "      <th>905</th>\n",
       "      <td>0.324901</td>\n",
       "      <td>-0.105517</td>\n",
       "      <td>-0.018070</td>\n",
       "      <td>0.002441</td>\n",
       "      <td>0.072228</td>\n",
       "      <td>0.218173</td>\n",
       "      <td>0.031727</td>\n",
       "      <td>0.002664</td>\n",
       "      <td>-0.121350</td>\n",
       "      <td>-0.336530</td>\n",
       "      <td>...</td>\n",
       "      <td>0.046304</td>\n",
       "      <td>0.116934</td>\n",
       "      <td>0.010155</td>\n",
       "      <td>-0.234406</td>\n",
       "      <td>-0.200940</td>\n",
       "      <td>0.259402</td>\n",
       "      <td>-0.085605</td>\n",
       "      <td>0.100587</td>\n",
       "      <td>Elements</td>\n",
       "      <td>18</td>\n",
       "    </tr>\n",
       "    <tr>\n",
       "      <th>906</th>\n",
       "      <td>0.325686</td>\n",
       "      <td>0.007507</td>\n",
       "      <td>0.568607</td>\n",
       "      <td>-0.473133</td>\n",
       "      <td>0.538820</td>\n",
       "      <td>0.350404</td>\n",
       "      <td>-0.383942</td>\n",
       "      <td>-0.436786</td>\n",
       "      <td>0.489475</td>\n",
       "      <td>0.290170</td>\n",
       "      <td>...</td>\n",
       "      <td>0.049562</td>\n",
       "      <td>-0.160159</td>\n",
       "      <td>0.428384</td>\n",
       "      <td>0.504725</td>\n",
       "      <td>-0.178634</td>\n",
       "      <td>0.124803</td>\n",
       "      <td>0.265882</td>\n",
       "      <td>-0.454380</td>\n",
       "      <td>Elements</td>\n",
       "      <td>14</td>\n",
       "    </tr>\n",
       "  </tbody>\n",
       "</table>\n",
       "<p>907 rows × 302 columns</p>\n",
       "</div>"
      ],
      "text/plain": [
       "            0         1         2         3         4         5         6  \\\n",
       "0    0.470398  0.112959  0.576481  0.284319 -0.299085 -0.224326 -0.123794   \n",
       "1    0.049944 -0.155750 -0.163262  0.342427  0.344525  0.220851  0.145824   \n",
       "2    0.528656  0.087556  0.443964 -0.145310 -0.210084 -0.233264  0.310592   \n",
       "3    0.496091 -0.221561  0.102886  0.463391 -0.310837 -0.004631 -0.230791   \n",
       "4    0.325686  0.007507  0.568607  0.200070  0.303783  0.257717 -0.551907   \n",
       "..        ...       ...       ...       ...       ...       ...       ...   \n",
       "902 -0.039911  0.310089 -0.052410  0.690485  0.085759 -0.538098 -0.081525   \n",
       "903 -0.383756  0.240404  0.678290  0.307314  0.203173 -0.122892 -0.171259   \n",
       "904  0.220746 -0.115841 -0.068942  0.492760  0.386467  0.067229 -0.147106   \n",
       "905  0.324901 -0.105517 -0.018070  0.002441  0.072228  0.218173  0.031727   \n",
       "906  0.325686  0.007507  0.568607 -0.473133  0.538820  0.350404 -0.383942   \n",
       "\n",
       "            7         8         9  ...       292       293       294  \\\n",
       "0    0.032323  0.204704  0.245813  ... -0.253576 -0.444092  0.272521   \n",
       "1    0.273347  0.079700 -0.416764  ... -0.085463  0.072925  0.030810   \n",
       "2   -0.061819  0.066595  0.219590  ... -0.423535 -0.439198  0.149286   \n",
       "3   -0.140402  0.273410  0.160696  ... -0.553314 -0.424678  0.583743   \n",
       "4   -0.138469  0.155176  0.157008  ... -0.281144 -0.151199  0.285765   \n",
       "..        ...       ...       ...  ...       ...       ...       ...   \n",
       "902 -0.732197  0.128270  0.160696  ... -0.190175 -0.183027 -0.112056   \n",
       "903 -0.043626 -0.005897 -0.538416  ...  0.495865 -0.275291 -0.508066   \n",
       "904 -0.217962  0.322650 -0.236095  ... -0.170360  0.219739 -0.176334   \n",
       "905  0.002664 -0.121350 -0.336530  ...  0.046304  0.116934  0.010155   \n",
       "906 -0.436786  0.489475  0.290170  ...  0.049562 -0.160159  0.428384   \n",
       "\n",
       "          295       296       297       298       299    target  cluster  \n",
       "0   -0.530659  0.355826  0.271354  0.680932 -0.512406  Elements       14  \n",
       "1   -0.426010  0.167298  0.435681  0.076551  0.146231  Elements        4  \n",
       "2    0.226566 -0.068306  0.465650  0.187808 -0.547966  Elements       14  \n",
       "3    0.146704 -0.115241 -0.394309  0.059847  0.012294  Elements        5  \n",
       "4   -0.678817  0.039957  0.485594  0.250473  0.650174  Elements        6  \n",
       "..        ...       ...       ...       ...       ...       ...      ...  \n",
       "902  0.058064  0.227423 -0.710195  0.474270  0.407580  Elements       18  \n",
       "903 -0.477942 -0.214610  0.054864  0.455759 -0.196776  Elements       16  \n",
       "904 -0.161617  0.170335  0.026640  0.317188  0.440498  Elements       18  \n",
       "905 -0.234406 -0.200940  0.259402 -0.085605  0.100587  Elements       18  \n",
       "906  0.504725 -0.178634  0.124803  0.265882 -0.454380  Elements       14  \n",
       "\n",
       "[907 rows x 302 columns]"
      ]
     },
     "execution_count": 26,
     "metadata": {},
     "output_type": "execute_result"
    }
   ],
   "source": [
    "fcm_labels = fcm.predict(X)\n",
    "d1['cluster'] = fcm_labels\n",
    "un = pd.Series(fcm_labels).unique()\n",
    "d1"
   ]
  },
  {
   "cell_type": "code",
   "execution_count": 27,
   "metadata": {
    "scrolled": true
   },
   "outputs": [
    {
     "data": {
      "text/html": [
       "<div>\n",
       "<style scoped>\n",
       "    .dataframe tbody tr th:only-of-type {\n",
       "        vertical-align: middle;\n",
       "    }\n",
       "\n",
       "    .dataframe tbody tr th {\n",
       "        vertical-align: top;\n",
       "    }\n",
       "\n",
       "    .dataframe thead th {\n",
       "        text-align: right;\n",
       "    }\n",
       "</style>\n",
       "<table border=\"1\" class=\"dataframe\">\n",
       "  <thead>\n",
       "    <tr style=\"text-align: right;\">\n",
       "      <th></th>\n",
       "      <th>0</th>\n",
       "      <th>1</th>\n",
       "      <th>cluster</th>\n",
       "    </tr>\n",
       "  </thead>\n",
       "  <tbody>\n",
       "    <tr>\n",
       "      <th>0</th>\n",
       "      <td>0.993716</td>\n",
       "      <td>-0.260779</td>\n",
       "      <td>14</td>\n",
       "    </tr>\n",
       "    <tr>\n",
       "      <th>1</th>\n",
       "      <td>-0.499844</td>\n",
       "      <td>0.240502</td>\n",
       "      <td>4</td>\n",
       "    </tr>\n",
       "    <tr>\n",
       "      <th>2</th>\n",
       "      <td>2.792088</td>\n",
       "      <td>-0.807081</td>\n",
       "      <td>14</td>\n",
       "    </tr>\n",
       "    <tr>\n",
       "      <th>3</th>\n",
       "      <td>-1.448803</td>\n",
       "      <td>0.288697</td>\n",
       "      <td>5</td>\n",
       "    </tr>\n",
       "    <tr>\n",
       "      <th>4</th>\n",
       "      <td>1.024599</td>\n",
       "      <td>1.840765</td>\n",
       "      <td>6</td>\n",
       "    </tr>\n",
       "    <tr>\n",
       "      <th>...</th>\n",
       "      <td>...</td>\n",
       "      <td>...</td>\n",
       "      <td>...</td>\n",
       "    </tr>\n",
       "    <tr>\n",
       "      <th>902</th>\n",
       "      <td>0.108800</td>\n",
       "      <td>2.415887</td>\n",
       "      <td>18</td>\n",
       "    </tr>\n",
       "    <tr>\n",
       "      <th>903</th>\n",
       "      <td>-0.139851</td>\n",
       "      <td>1.613459</td>\n",
       "      <td>16</td>\n",
       "    </tr>\n",
       "    <tr>\n",
       "      <th>904</th>\n",
       "      <td>0.150270</td>\n",
       "      <td>0.782950</td>\n",
       "      <td>18</td>\n",
       "    </tr>\n",
       "    <tr>\n",
       "      <th>905</th>\n",
       "      <td>0.784516</td>\n",
       "      <td>0.757909</td>\n",
       "      <td>18</td>\n",
       "    </tr>\n",
       "    <tr>\n",
       "      <th>906</th>\n",
       "      <td>1.034306</td>\n",
       "      <td>-1.543170</td>\n",
       "      <td>14</td>\n",
       "    </tr>\n",
       "  </tbody>\n",
       "</table>\n",
       "<p>907 rows × 3 columns</p>\n",
       "</div>"
      ],
      "text/plain": [
       "            0         1  cluster\n",
       "0    0.993716 -0.260779       14\n",
       "1   -0.499844  0.240502        4\n",
       "2    2.792088 -0.807081       14\n",
       "3   -1.448803  0.288697        5\n",
       "4    1.024599  1.840765        6\n",
       "..        ...       ...      ...\n",
       "902  0.108800  2.415887       18\n",
       "903 -0.139851  1.613459       16\n",
       "904  0.150270  0.782950       18\n",
       "905  0.784516  0.757909       18\n",
       "906  1.034306 -1.543170       14\n",
       "\n",
       "[907 rows x 3 columns]"
      ]
     },
     "execution_count": 27,
     "metadata": {},
     "output_type": "execute_result"
    }
   ],
   "source": [
    "pca2 = PCA(n_components=2)\n",
    "d1_2d = pca2.fit_transform(d1.iloc[:,:-2])\n",
    "d1_df = pd.DataFrame(d1_2d)\n",
    "d1_df['cluster'] = d1['cluster']\n",
    "d1_df"
   ]
  },
  {
   "cell_type": "code",
   "execution_count": 28,
   "metadata": {},
   "outputs": [
    {
     "data": {
      "text/plain": [
       "array([14,  4,  5,  6, 18, 16, 12,  8,  3,  2], dtype=int64)"
      ]
     },
     "execution_count": 28,
     "metadata": {},
     "output_type": "execute_result"
    }
   ],
   "source": [
    "un"
   ]
  },
  {
   "cell_type": "code",
   "execution_count": 29,
   "metadata": {},
   "outputs": [
    {
     "name": "stderr",
     "output_type": "stream",
     "text": [
      "H:\\Anaconda\\envs\\fuzzy_c_means\\lib\\site-packages\\fcmeans\\fcm.py:51: RuntimeWarning: divide by zero encountered in true_divide\n",
      "  denominator_ = temp[:, :, np.newaxis] / denominator_\n",
      "H:\\Anaconda\\envs\\fuzzy_c_means\\lib\\site-packages\\fcmeans\\fcm.py:51: RuntimeWarning: invalid value encountered in true_divide\n",
      "  denominator_ = temp[:, :, np.newaxis] / denominator_\n"
     ]
    },
    {
     "data": {
      "text/html": [
       "<div>\n",
       "<style scoped>\n",
       "    .dataframe tbody tr th:only-of-type {\n",
       "        vertical-align: middle;\n",
       "    }\n",
       "\n",
       "    .dataframe tbody tr th {\n",
       "        vertical-align: top;\n",
       "    }\n",
       "\n",
       "    .dataframe thead th {\n",
       "        text-align: right;\n",
       "    }\n",
       "</style>\n",
       "<table border=\"1\" class=\"dataframe\">\n",
       "  <thead>\n",
       "    <tr style=\"text-align: right;\">\n",
       "      <th></th>\n",
       "      <th>0</th>\n",
       "      <th>1</th>\n",
       "      <th>2</th>\n",
       "      <th>3</th>\n",
       "      <th>4</th>\n",
       "      <th>5</th>\n",
       "      <th>6</th>\n",
       "      <th>7</th>\n",
       "      <th>8</th>\n",
       "      <th>9</th>\n",
       "      <th>...</th>\n",
       "      <th>292</th>\n",
       "      <th>293</th>\n",
       "      <th>294</th>\n",
       "      <th>295</th>\n",
       "      <th>296</th>\n",
       "      <th>297</th>\n",
       "      <th>298</th>\n",
       "      <th>299</th>\n",
       "      <th>target</th>\n",
       "      <th>cluster</th>\n",
       "    </tr>\n",
       "  </thead>\n",
       "  <tbody>\n",
       "    <tr>\n",
       "      <th>0</th>\n",
       "      <td>0.135065</td>\n",
       "      <td>0.101104</td>\n",
       "      <td>0.128373</td>\n",
       "      <td>0.105094</td>\n",
       "      <td>-0.053834</td>\n",
       "      <td>0.104711</td>\n",
       "      <td>-0.05073</td>\n",
       "      <td>0.029609</td>\n",
       "      <td>0.151539</td>\n",
       "      <td>0.078254</td>\n",
       "      <td>...</td>\n",
       "      <td>-0.041550</td>\n",
       "      <td>0.012787</td>\n",
       "      <td>0.06941</td>\n",
       "      <td>-0.146886</td>\n",
       "      <td>-0.053822</td>\n",
       "      <td>0.174341</td>\n",
       "      <td>0.265626</td>\n",
       "      <td>0.184215</td>\n",
       "      <td>Centers</td>\n",
       "      <td>0</td>\n",
       "    </tr>\n",
       "    <tr>\n",
       "      <th>1</th>\n",
       "      <td>0.135065</td>\n",
       "      <td>0.101104</td>\n",
       "      <td>0.128373</td>\n",
       "      <td>0.105094</td>\n",
       "      <td>-0.053834</td>\n",
       "      <td>0.104711</td>\n",
       "      <td>-0.05073</td>\n",
       "      <td>0.029609</td>\n",
       "      <td>0.151539</td>\n",
       "      <td>0.078254</td>\n",
       "      <td>...</td>\n",
       "      <td>-0.041551</td>\n",
       "      <td>0.012787</td>\n",
       "      <td>0.06941</td>\n",
       "      <td>-0.146886</td>\n",
       "      <td>-0.053822</td>\n",
       "      <td>0.174341</td>\n",
       "      <td>0.265626</td>\n",
       "      <td>0.184215</td>\n",
       "      <td>Centers</td>\n",
       "      <td>1</td>\n",
       "    </tr>\n",
       "    <tr>\n",
       "      <th>2</th>\n",
       "      <td>0.135065</td>\n",
       "      <td>0.101104</td>\n",
       "      <td>0.128373</td>\n",
       "      <td>0.105094</td>\n",
       "      <td>-0.053834</td>\n",
       "      <td>0.104711</td>\n",
       "      <td>-0.05073</td>\n",
       "      <td>0.029609</td>\n",
       "      <td>0.151539</td>\n",
       "      <td>0.078254</td>\n",
       "      <td>...</td>\n",
       "      <td>-0.041551</td>\n",
       "      <td>0.012787</td>\n",
       "      <td>0.06941</td>\n",
       "      <td>-0.146886</td>\n",
       "      <td>-0.053822</td>\n",
       "      <td>0.174342</td>\n",
       "      <td>0.265626</td>\n",
       "      <td>0.184215</td>\n",
       "      <td>Centers</td>\n",
       "      <td>2</td>\n",
       "    </tr>\n",
       "    <tr>\n",
       "      <th>3</th>\n",
       "      <td>0.135065</td>\n",
       "      <td>0.101104</td>\n",
       "      <td>0.128373</td>\n",
       "      <td>0.105094</td>\n",
       "      <td>-0.053834</td>\n",
       "      <td>0.104711</td>\n",
       "      <td>-0.05073</td>\n",
       "      <td>0.029609</td>\n",
       "      <td>0.151539</td>\n",
       "      <td>0.078254</td>\n",
       "      <td>...</td>\n",
       "      <td>-0.041550</td>\n",
       "      <td>0.012787</td>\n",
       "      <td>0.06941</td>\n",
       "      <td>-0.146886</td>\n",
       "      <td>-0.053822</td>\n",
       "      <td>0.174341</td>\n",
       "      <td>0.265626</td>\n",
       "      <td>0.184215</td>\n",
       "      <td>Centers</td>\n",
       "      <td>3</td>\n",
       "    </tr>\n",
       "    <tr>\n",
       "      <th>4</th>\n",
       "      <td>0.135065</td>\n",
       "      <td>0.101104</td>\n",
       "      <td>0.128372</td>\n",
       "      <td>0.105094</td>\n",
       "      <td>-0.053834</td>\n",
       "      <td>0.104711</td>\n",
       "      <td>-0.05073</td>\n",
       "      <td>0.029609</td>\n",
       "      <td>0.151539</td>\n",
       "      <td>0.078254</td>\n",
       "      <td>...</td>\n",
       "      <td>-0.041550</td>\n",
       "      <td>0.012787</td>\n",
       "      <td>0.06941</td>\n",
       "      <td>-0.146886</td>\n",
       "      <td>-0.053822</td>\n",
       "      <td>0.174341</td>\n",
       "      <td>0.265626</td>\n",
       "      <td>0.184215</td>\n",
       "      <td>Centers</td>\n",
       "      <td>4</td>\n",
       "    </tr>\n",
       "    <tr>\n",
       "      <th>5</th>\n",
       "      <td>0.135065</td>\n",
       "      <td>0.101104</td>\n",
       "      <td>0.128372</td>\n",
       "      <td>0.105094</td>\n",
       "      <td>-0.053834</td>\n",
       "      <td>0.104711</td>\n",
       "      <td>-0.05073</td>\n",
       "      <td>0.029609</td>\n",
       "      <td>0.151539</td>\n",
       "      <td>0.078254</td>\n",
       "      <td>...</td>\n",
       "      <td>-0.041550</td>\n",
       "      <td>0.012787</td>\n",
       "      <td>0.06941</td>\n",
       "      <td>-0.146886</td>\n",
       "      <td>-0.053822</td>\n",
       "      <td>0.174341</td>\n",
       "      <td>0.265626</td>\n",
       "      <td>0.184215</td>\n",
       "      <td>Centers</td>\n",
       "      <td>5</td>\n",
       "    </tr>\n",
       "    <tr>\n",
       "      <th>6</th>\n",
       "      <td>0.135065</td>\n",
       "      <td>0.101104</td>\n",
       "      <td>0.128373</td>\n",
       "      <td>0.105094</td>\n",
       "      <td>-0.053834</td>\n",
       "      <td>0.104711</td>\n",
       "      <td>-0.05073</td>\n",
       "      <td>0.029609</td>\n",
       "      <td>0.151539</td>\n",
       "      <td>0.078254</td>\n",
       "      <td>...</td>\n",
       "      <td>-0.041550</td>\n",
       "      <td>0.012787</td>\n",
       "      <td>0.06941</td>\n",
       "      <td>-0.146886</td>\n",
       "      <td>-0.053822</td>\n",
       "      <td>0.174341</td>\n",
       "      <td>0.265626</td>\n",
       "      <td>0.184215</td>\n",
       "      <td>Centers</td>\n",
       "      <td>6</td>\n",
       "    </tr>\n",
       "    <tr>\n",
       "      <th>7</th>\n",
       "      <td>0.135065</td>\n",
       "      <td>0.101104</td>\n",
       "      <td>0.128373</td>\n",
       "      <td>0.105094</td>\n",
       "      <td>-0.053834</td>\n",
       "      <td>0.104711</td>\n",
       "      <td>-0.05073</td>\n",
       "      <td>0.029609</td>\n",
       "      <td>0.151539</td>\n",
       "      <td>0.078254</td>\n",
       "      <td>...</td>\n",
       "      <td>-0.041550</td>\n",
       "      <td>0.012787</td>\n",
       "      <td>0.06941</td>\n",
       "      <td>-0.146886</td>\n",
       "      <td>-0.053822</td>\n",
       "      <td>0.174341</td>\n",
       "      <td>0.265626</td>\n",
       "      <td>0.184215</td>\n",
       "      <td>Centers</td>\n",
       "      <td>7</td>\n",
       "    </tr>\n",
       "    <tr>\n",
       "      <th>8</th>\n",
       "      <td>0.135065</td>\n",
       "      <td>0.101104</td>\n",
       "      <td>0.128373</td>\n",
       "      <td>0.105094</td>\n",
       "      <td>-0.053834</td>\n",
       "      <td>0.104711</td>\n",
       "      <td>-0.05073</td>\n",
       "      <td>0.029609</td>\n",
       "      <td>0.151539</td>\n",
       "      <td>0.078254</td>\n",
       "      <td>...</td>\n",
       "      <td>-0.041551</td>\n",
       "      <td>0.012787</td>\n",
       "      <td>0.06941</td>\n",
       "      <td>-0.146886</td>\n",
       "      <td>-0.053822</td>\n",
       "      <td>0.174341</td>\n",
       "      <td>0.265626</td>\n",
       "      <td>0.184215</td>\n",
       "      <td>Centers</td>\n",
       "      <td>8</td>\n",
       "    </tr>\n",
       "    <tr>\n",
       "      <th>9</th>\n",
       "      <td>0.135065</td>\n",
       "      <td>0.101104</td>\n",
       "      <td>0.128373</td>\n",
       "      <td>0.105094</td>\n",
       "      <td>-0.053834</td>\n",
       "      <td>0.104711</td>\n",
       "      <td>-0.05073</td>\n",
       "      <td>0.029609</td>\n",
       "      <td>0.151539</td>\n",
       "      <td>0.078254</td>\n",
       "      <td>...</td>\n",
       "      <td>-0.041550</td>\n",
       "      <td>0.012787</td>\n",
       "      <td>0.06941</td>\n",
       "      <td>-0.146886</td>\n",
       "      <td>-0.053822</td>\n",
       "      <td>0.174341</td>\n",
       "      <td>0.265626</td>\n",
       "      <td>0.184215</td>\n",
       "      <td>Centers</td>\n",
       "      <td>9</td>\n",
       "    </tr>\n",
       "    <tr>\n",
       "      <th>10</th>\n",
       "      <td>0.135065</td>\n",
       "      <td>0.101104</td>\n",
       "      <td>0.128373</td>\n",
       "      <td>0.105094</td>\n",
       "      <td>-0.053834</td>\n",
       "      <td>0.104711</td>\n",
       "      <td>-0.05073</td>\n",
       "      <td>0.029609</td>\n",
       "      <td>0.151539</td>\n",
       "      <td>0.078254</td>\n",
       "      <td>...</td>\n",
       "      <td>-0.041551</td>\n",
       "      <td>0.012787</td>\n",
       "      <td>0.06941</td>\n",
       "      <td>-0.146886</td>\n",
       "      <td>-0.053822</td>\n",
       "      <td>0.174342</td>\n",
       "      <td>0.265626</td>\n",
       "      <td>0.184215</td>\n",
       "      <td>Centers</td>\n",
       "      <td>10</td>\n",
       "    </tr>\n",
       "    <tr>\n",
       "      <th>11</th>\n",
       "      <td>0.135065</td>\n",
       "      <td>0.101104</td>\n",
       "      <td>0.128373</td>\n",
       "      <td>0.105094</td>\n",
       "      <td>-0.053834</td>\n",
       "      <td>0.104711</td>\n",
       "      <td>-0.05073</td>\n",
       "      <td>0.029609</td>\n",
       "      <td>0.151539</td>\n",
       "      <td>0.078254</td>\n",
       "      <td>...</td>\n",
       "      <td>-0.041551</td>\n",
       "      <td>0.012787</td>\n",
       "      <td>0.06941</td>\n",
       "      <td>-0.146886</td>\n",
       "      <td>-0.053822</td>\n",
       "      <td>0.174342</td>\n",
       "      <td>0.265626</td>\n",
       "      <td>0.184215</td>\n",
       "      <td>Centers</td>\n",
       "      <td>11</td>\n",
       "    </tr>\n",
       "    <tr>\n",
       "      <th>12</th>\n",
       "      <td>0.135065</td>\n",
       "      <td>0.101104</td>\n",
       "      <td>0.128372</td>\n",
       "      <td>0.105094</td>\n",
       "      <td>-0.053834</td>\n",
       "      <td>0.104711</td>\n",
       "      <td>-0.05073</td>\n",
       "      <td>0.029609</td>\n",
       "      <td>0.151539</td>\n",
       "      <td>0.078254</td>\n",
       "      <td>...</td>\n",
       "      <td>-0.041550</td>\n",
       "      <td>0.012787</td>\n",
       "      <td>0.06941</td>\n",
       "      <td>-0.146886</td>\n",
       "      <td>-0.053823</td>\n",
       "      <td>0.174341</td>\n",
       "      <td>0.265626</td>\n",
       "      <td>0.184215</td>\n",
       "      <td>Centers</td>\n",
       "      <td>12</td>\n",
       "    </tr>\n",
       "    <tr>\n",
       "      <th>13</th>\n",
       "      <td>0.135065</td>\n",
       "      <td>0.101104</td>\n",
       "      <td>0.128373</td>\n",
       "      <td>0.105094</td>\n",
       "      <td>-0.053834</td>\n",
       "      <td>0.104711</td>\n",
       "      <td>-0.05073</td>\n",
       "      <td>0.029609</td>\n",
       "      <td>0.151539</td>\n",
       "      <td>0.078254</td>\n",
       "      <td>...</td>\n",
       "      <td>-0.041551</td>\n",
       "      <td>0.012787</td>\n",
       "      <td>0.06941</td>\n",
       "      <td>-0.146886</td>\n",
       "      <td>-0.053822</td>\n",
       "      <td>0.174342</td>\n",
       "      <td>0.265626</td>\n",
       "      <td>0.184215</td>\n",
       "      <td>Centers</td>\n",
       "      <td>13</td>\n",
       "    </tr>\n",
       "    <tr>\n",
       "      <th>14</th>\n",
       "      <td>0.135066</td>\n",
       "      <td>0.101104</td>\n",
       "      <td>0.128373</td>\n",
       "      <td>0.105094</td>\n",
       "      <td>-0.053834</td>\n",
       "      <td>0.104711</td>\n",
       "      <td>-0.05073</td>\n",
       "      <td>0.029609</td>\n",
       "      <td>0.151539</td>\n",
       "      <td>0.078254</td>\n",
       "      <td>...</td>\n",
       "      <td>-0.041551</td>\n",
       "      <td>0.012787</td>\n",
       "      <td>0.06941</td>\n",
       "      <td>-0.146886</td>\n",
       "      <td>-0.053822</td>\n",
       "      <td>0.174342</td>\n",
       "      <td>0.265626</td>\n",
       "      <td>0.184214</td>\n",
       "      <td>Centers</td>\n",
       "      <td>14</td>\n",
       "    </tr>\n",
       "    <tr>\n",
       "      <th>15</th>\n",
       "      <td>0.135065</td>\n",
       "      <td>0.101104</td>\n",
       "      <td>0.128373</td>\n",
       "      <td>0.105094</td>\n",
       "      <td>-0.053834</td>\n",
       "      <td>0.104711</td>\n",
       "      <td>-0.05073</td>\n",
       "      <td>0.029609</td>\n",
       "      <td>0.151539</td>\n",
       "      <td>0.078254</td>\n",
       "      <td>...</td>\n",
       "      <td>-0.041550</td>\n",
       "      <td>0.012787</td>\n",
       "      <td>0.06941</td>\n",
       "      <td>-0.146886</td>\n",
       "      <td>-0.053822</td>\n",
       "      <td>0.174341</td>\n",
       "      <td>0.265626</td>\n",
       "      <td>0.184215</td>\n",
       "      <td>Centers</td>\n",
       "      <td>15</td>\n",
       "    </tr>\n",
       "    <tr>\n",
       "      <th>16</th>\n",
       "      <td>0.135065</td>\n",
       "      <td>0.101104</td>\n",
       "      <td>0.128372</td>\n",
       "      <td>0.105094</td>\n",
       "      <td>-0.053834</td>\n",
       "      <td>0.104711</td>\n",
       "      <td>-0.05073</td>\n",
       "      <td>0.029609</td>\n",
       "      <td>0.151539</td>\n",
       "      <td>0.078254</td>\n",
       "      <td>...</td>\n",
       "      <td>-0.041550</td>\n",
       "      <td>0.012787</td>\n",
       "      <td>0.06941</td>\n",
       "      <td>-0.146886</td>\n",
       "      <td>-0.053822</td>\n",
       "      <td>0.174341</td>\n",
       "      <td>0.265626</td>\n",
       "      <td>0.184215</td>\n",
       "      <td>Centers</td>\n",
       "      <td>16</td>\n",
       "    </tr>\n",
       "    <tr>\n",
       "      <th>17</th>\n",
       "      <td>0.135065</td>\n",
       "      <td>0.101104</td>\n",
       "      <td>0.128373</td>\n",
       "      <td>0.105094</td>\n",
       "      <td>-0.053834</td>\n",
       "      <td>0.104711</td>\n",
       "      <td>-0.05073</td>\n",
       "      <td>0.029609</td>\n",
       "      <td>0.151539</td>\n",
       "      <td>0.078254</td>\n",
       "      <td>...</td>\n",
       "      <td>-0.041551</td>\n",
       "      <td>0.012787</td>\n",
       "      <td>0.06941</td>\n",
       "      <td>-0.146886</td>\n",
       "      <td>-0.053822</td>\n",
       "      <td>0.174342</td>\n",
       "      <td>0.265626</td>\n",
       "      <td>0.184215</td>\n",
       "      <td>Centers</td>\n",
       "      <td>17</td>\n",
       "    </tr>\n",
       "    <tr>\n",
       "      <th>18</th>\n",
       "      <td>0.135065</td>\n",
       "      <td>0.101104</td>\n",
       "      <td>0.128373</td>\n",
       "      <td>0.105094</td>\n",
       "      <td>-0.053834</td>\n",
       "      <td>0.104711</td>\n",
       "      <td>-0.05073</td>\n",
       "      <td>0.029609</td>\n",
       "      <td>0.151539</td>\n",
       "      <td>0.078254</td>\n",
       "      <td>...</td>\n",
       "      <td>-0.041550</td>\n",
       "      <td>0.012787</td>\n",
       "      <td>0.06941</td>\n",
       "      <td>-0.146886</td>\n",
       "      <td>-0.053822</td>\n",
       "      <td>0.174341</td>\n",
       "      <td>0.265626</td>\n",
       "      <td>0.184215</td>\n",
       "      <td>Centers</td>\n",
       "      <td>18</td>\n",
       "    </tr>\n",
       "    <tr>\n",
       "      <th>19</th>\n",
       "      <td>0.135065</td>\n",
       "      <td>0.101104</td>\n",
       "      <td>0.128373</td>\n",
       "      <td>0.105094</td>\n",
       "      <td>-0.053834</td>\n",
       "      <td>0.104711</td>\n",
       "      <td>-0.05073</td>\n",
       "      <td>0.029609</td>\n",
       "      <td>0.151539</td>\n",
       "      <td>0.078254</td>\n",
       "      <td>...</td>\n",
       "      <td>-0.041551</td>\n",
       "      <td>0.012787</td>\n",
       "      <td>0.06941</td>\n",
       "      <td>-0.146886</td>\n",
       "      <td>-0.053822</td>\n",
       "      <td>0.174341</td>\n",
       "      <td>0.265626</td>\n",
       "      <td>0.184215</td>\n",
       "      <td>Centers</td>\n",
       "      <td>19</td>\n",
       "    </tr>\n",
       "  </tbody>\n",
       "</table>\n",
       "<p>20 rows × 302 columns</p>\n",
       "</div>"
      ],
      "text/plain": [
       "           0         1         2         3         4         5        6  \\\n",
       "0   0.135065  0.101104  0.128373  0.105094 -0.053834  0.104711 -0.05073   \n",
       "1   0.135065  0.101104  0.128373  0.105094 -0.053834  0.104711 -0.05073   \n",
       "2   0.135065  0.101104  0.128373  0.105094 -0.053834  0.104711 -0.05073   \n",
       "3   0.135065  0.101104  0.128373  0.105094 -0.053834  0.104711 -0.05073   \n",
       "4   0.135065  0.101104  0.128372  0.105094 -0.053834  0.104711 -0.05073   \n",
       "5   0.135065  0.101104  0.128372  0.105094 -0.053834  0.104711 -0.05073   \n",
       "6   0.135065  0.101104  0.128373  0.105094 -0.053834  0.104711 -0.05073   \n",
       "7   0.135065  0.101104  0.128373  0.105094 -0.053834  0.104711 -0.05073   \n",
       "8   0.135065  0.101104  0.128373  0.105094 -0.053834  0.104711 -0.05073   \n",
       "9   0.135065  0.101104  0.128373  0.105094 -0.053834  0.104711 -0.05073   \n",
       "10  0.135065  0.101104  0.128373  0.105094 -0.053834  0.104711 -0.05073   \n",
       "11  0.135065  0.101104  0.128373  0.105094 -0.053834  0.104711 -0.05073   \n",
       "12  0.135065  0.101104  0.128372  0.105094 -0.053834  0.104711 -0.05073   \n",
       "13  0.135065  0.101104  0.128373  0.105094 -0.053834  0.104711 -0.05073   \n",
       "14  0.135066  0.101104  0.128373  0.105094 -0.053834  0.104711 -0.05073   \n",
       "15  0.135065  0.101104  0.128373  0.105094 -0.053834  0.104711 -0.05073   \n",
       "16  0.135065  0.101104  0.128372  0.105094 -0.053834  0.104711 -0.05073   \n",
       "17  0.135065  0.101104  0.128373  0.105094 -0.053834  0.104711 -0.05073   \n",
       "18  0.135065  0.101104  0.128373  0.105094 -0.053834  0.104711 -0.05073   \n",
       "19  0.135065  0.101104  0.128373  0.105094 -0.053834  0.104711 -0.05073   \n",
       "\n",
       "           7         8         9  ...       292       293      294       295  \\\n",
       "0   0.029609  0.151539  0.078254  ... -0.041550  0.012787  0.06941 -0.146886   \n",
       "1   0.029609  0.151539  0.078254  ... -0.041551  0.012787  0.06941 -0.146886   \n",
       "2   0.029609  0.151539  0.078254  ... -0.041551  0.012787  0.06941 -0.146886   \n",
       "3   0.029609  0.151539  0.078254  ... -0.041550  0.012787  0.06941 -0.146886   \n",
       "4   0.029609  0.151539  0.078254  ... -0.041550  0.012787  0.06941 -0.146886   \n",
       "5   0.029609  0.151539  0.078254  ... -0.041550  0.012787  0.06941 -0.146886   \n",
       "6   0.029609  0.151539  0.078254  ... -0.041550  0.012787  0.06941 -0.146886   \n",
       "7   0.029609  0.151539  0.078254  ... -0.041550  0.012787  0.06941 -0.146886   \n",
       "8   0.029609  0.151539  0.078254  ... -0.041551  0.012787  0.06941 -0.146886   \n",
       "9   0.029609  0.151539  0.078254  ... -0.041550  0.012787  0.06941 -0.146886   \n",
       "10  0.029609  0.151539  0.078254  ... -0.041551  0.012787  0.06941 -0.146886   \n",
       "11  0.029609  0.151539  0.078254  ... -0.041551  0.012787  0.06941 -0.146886   \n",
       "12  0.029609  0.151539  0.078254  ... -0.041550  0.012787  0.06941 -0.146886   \n",
       "13  0.029609  0.151539  0.078254  ... -0.041551  0.012787  0.06941 -0.146886   \n",
       "14  0.029609  0.151539  0.078254  ... -0.041551  0.012787  0.06941 -0.146886   \n",
       "15  0.029609  0.151539  0.078254  ... -0.041550  0.012787  0.06941 -0.146886   \n",
       "16  0.029609  0.151539  0.078254  ... -0.041550  0.012787  0.06941 -0.146886   \n",
       "17  0.029609  0.151539  0.078254  ... -0.041551  0.012787  0.06941 -0.146886   \n",
       "18  0.029609  0.151539  0.078254  ... -0.041550  0.012787  0.06941 -0.146886   \n",
       "19  0.029609  0.151539  0.078254  ... -0.041551  0.012787  0.06941 -0.146886   \n",
       "\n",
       "         296       297       298       299   target  cluster  \n",
       "0  -0.053822  0.174341  0.265626  0.184215  Centers        0  \n",
       "1  -0.053822  0.174341  0.265626  0.184215  Centers        1  \n",
       "2  -0.053822  0.174342  0.265626  0.184215  Centers        2  \n",
       "3  -0.053822  0.174341  0.265626  0.184215  Centers        3  \n",
       "4  -0.053822  0.174341  0.265626  0.184215  Centers        4  \n",
       "5  -0.053822  0.174341  0.265626  0.184215  Centers        5  \n",
       "6  -0.053822  0.174341  0.265626  0.184215  Centers        6  \n",
       "7  -0.053822  0.174341  0.265626  0.184215  Centers        7  \n",
       "8  -0.053822  0.174341  0.265626  0.184215  Centers        8  \n",
       "9  -0.053822  0.174341  0.265626  0.184215  Centers        9  \n",
       "10 -0.053822  0.174342  0.265626  0.184215  Centers       10  \n",
       "11 -0.053822  0.174342  0.265626  0.184215  Centers       11  \n",
       "12 -0.053823  0.174341  0.265626  0.184215  Centers       12  \n",
       "13 -0.053822  0.174342  0.265626  0.184215  Centers       13  \n",
       "14 -0.053822  0.174342  0.265626  0.184214  Centers       14  \n",
       "15 -0.053822  0.174341  0.265626  0.184215  Centers       15  \n",
       "16 -0.053822  0.174341  0.265626  0.184215  Centers       16  \n",
       "17 -0.053822  0.174342  0.265626  0.184215  Centers       17  \n",
       "18 -0.053822  0.174341  0.265626  0.184215  Centers       18  \n",
       "19 -0.053822  0.174341  0.265626  0.184215  Centers       19  \n",
       "\n",
       "[20 rows x 302 columns]"
      ]
     },
     "execution_count": 29,
     "metadata": {},
     "output_type": "execute_result"
    }
   ],
   "source": [
    "fcm_cluster_labels = fcm.predict(clusters)\n",
    "d2['cluster'] = fcm_cluster_labels\n",
    "d2"
   ]
  },
  {
   "cell_type": "code",
   "execution_count": 30,
   "metadata": {},
   "outputs": [
    {
     "data": {
      "text/html": [
       "<div>\n",
       "<style scoped>\n",
       "    .dataframe tbody tr th:only-of-type {\n",
       "        vertical-align: middle;\n",
       "    }\n",
       "\n",
       "    .dataframe tbody tr th {\n",
       "        vertical-align: top;\n",
       "    }\n",
       "\n",
       "    .dataframe thead th {\n",
       "        text-align: right;\n",
       "    }\n",
       "</style>\n",
       "<table border=\"1\" class=\"dataframe\">\n",
       "  <thead>\n",
       "    <tr style=\"text-align: right;\">\n",
       "      <th></th>\n",
       "      <th>0</th>\n",
       "      <th>1</th>\n",
       "      <th>cluster</th>\n",
       "    </tr>\n",
       "  </thead>\n",
       "  <tbody>\n",
       "    <tr>\n",
       "      <th>0</th>\n",
       "      <td>-3.937943e-07</td>\n",
       "      <td>8.070268e-09</td>\n",
       "      <td>0</td>\n",
       "    </tr>\n",
       "    <tr>\n",
       "      <th>1</th>\n",
       "      <td>3.712087e-07</td>\n",
       "      <td>7.592841e-08</td>\n",
       "      <td>1</td>\n",
       "    </tr>\n",
       "    <tr>\n",
       "      <th>2</th>\n",
       "      <td>9.134068e-07</td>\n",
       "      <td>-4.122036e-07</td>\n",
       "      <td>2</td>\n",
       "    </tr>\n",
       "    <tr>\n",
       "      <th>3</th>\n",
       "      <td>1.268073e-08</td>\n",
       "      <td>1.006299e-07</td>\n",
       "      <td>3</td>\n",
       "    </tr>\n",
       "    <tr>\n",
       "      <th>4</th>\n",
       "      <td>-2.687172e-06</td>\n",
       "      <td>5.125734e-07</td>\n",
       "      <td>4</td>\n",
       "    </tr>\n",
       "    <tr>\n",
       "      <th>5</th>\n",
       "      <td>-2.622698e-06</td>\n",
       "      <td>-3.199148e-07</td>\n",
       "      <td>5</td>\n",
       "    </tr>\n",
       "    <tr>\n",
       "      <th>6</th>\n",
       "      <td>1.985242e-06</td>\n",
       "      <td>9.528476e-07</td>\n",
       "      <td>6</td>\n",
       "    </tr>\n",
       "    <tr>\n",
       "      <th>7</th>\n",
       "      <td>-4.457352e-07</td>\n",
       "      <td>-3.812930e-08</td>\n",
       "      <td>7</td>\n",
       "    </tr>\n",
       "    <tr>\n",
       "      <th>8</th>\n",
       "      <td>-9.813543e-07</td>\n",
       "      <td>-7.016126e-07</td>\n",
       "      <td>8</td>\n",
       "    </tr>\n",
       "    <tr>\n",
       "      <th>9</th>\n",
       "      <td>-7.437327e-07</td>\n",
       "      <td>-4.619324e-08</td>\n",
       "      <td>9</td>\n",
       "    </tr>\n",
       "    <tr>\n",
       "      <th>10</th>\n",
       "      <td>2.062909e-06</td>\n",
       "      <td>2.408056e-08</td>\n",
       "      <td>10</td>\n",
       "    </tr>\n",
       "    <tr>\n",
       "      <th>11</th>\n",
       "      <td>1.201254e-06</td>\n",
       "      <td>-1.248261e-07</td>\n",
       "      <td>11</td>\n",
       "    </tr>\n",
       "    <tr>\n",
       "      <th>12</th>\n",
       "      <td>-2.888786e-06</td>\n",
       "      <td>-6.620545e-07</td>\n",
       "      <td>12</td>\n",
       "    </tr>\n",
       "    <tr>\n",
       "      <th>13</th>\n",
       "      <td>7.185522e-07</td>\n",
       "      <td>-4.981787e-08</td>\n",
       "      <td>13</td>\n",
       "    </tr>\n",
       "    <tr>\n",
       "      <th>14</th>\n",
       "      <td>3.849634e-06</td>\n",
       "      <td>-7.287105e-07</td>\n",
       "      <td>14</td>\n",
       "    </tr>\n",
       "    <tr>\n",
       "      <th>15</th>\n",
       "      <td>5.995913e-07</td>\n",
       "      <td>2.774766e-07</td>\n",
       "      <td>15</td>\n",
       "    </tr>\n",
       "    <tr>\n",
       "      <th>16</th>\n",
       "      <td>-1.966765e-06</td>\n",
       "      <td>7.408881e-07</td>\n",
       "      <td>16</td>\n",
       "    </tr>\n",
       "    <tr>\n",
       "      <th>17</th>\n",
       "      <td>1.067678e-06</td>\n",
       "      <td>-5.089408e-07</td>\n",
       "      <td>17</td>\n",
       "    </tr>\n",
       "    <tr>\n",
       "      <th>18</th>\n",
       "      <td>5.271786e-07</td>\n",
       "      <td>1.483382e-06</td>\n",
       "      <td>18</td>\n",
       "    </tr>\n",
       "    <tr>\n",
       "      <th>19</th>\n",
       "      <td>-5.792996e-07</td>\n",
       "      <td>-5.834730e-07</td>\n",
       "      <td>19</td>\n",
       "    </tr>\n",
       "  </tbody>\n",
       "</table>\n",
       "</div>"
      ],
      "text/plain": [
       "               0             1  cluster\n",
       "0  -3.937943e-07  8.070268e-09        0\n",
       "1   3.712087e-07  7.592841e-08        1\n",
       "2   9.134068e-07 -4.122036e-07        2\n",
       "3   1.268073e-08  1.006299e-07        3\n",
       "4  -2.687172e-06  5.125734e-07        4\n",
       "5  -2.622698e-06 -3.199148e-07        5\n",
       "6   1.985242e-06  9.528476e-07        6\n",
       "7  -4.457352e-07 -3.812930e-08        7\n",
       "8  -9.813543e-07 -7.016126e-07        8\n",
       "9  -7.437327e-07 -4.619324e-08        9\n",
       "10  2.062909e-06  2.408056e-08       10\n",
       "11  1.201254e-06 -1.248261e-07       11\n",
       "12 -2.888786e-06 -6.620545e-07       12\n",
       "13  7.185522e-07 -4.981787e-08       13\n",
       "14  3.849634e-06 -7.287105e-07       14\n",
       "15  5.995913e-07  2.774766e-07       15\n",
       "16 -1.966765e-06  7.408881e-07       16\n",
       "17  1.067678e-06 -5.089408e-07       17\n",
       "18  5.271786e-07  1.483382e-06       18\n",
       "19 -5.792996e-07 -5.834730e-07       19"
      ]
     },
     "execution_count": 30,
     "metadata": {},
     "output_type": "execute_result"
    }
   ],
   "source": [
    "d2_2d = pca2.fit_transform(d2.iloc[:,:-2])\n",
    "d2_df = pd.DataFrame(d2_2d)\n",
    "d2_df['cluster'] = d2['cluster']\n",
    "d2_df"
   ]
  },
  {
   "cell_type": "code",
   "execution_count": 31,
   "metadata": {},
   "outputs": [
    {
     "data": {
      "image/png": "[encoded data removed]",
      "text/plain": [
       "<Figure size 576x576 with 1 Axes>"
      ]
     },
     "metadata": {
      "needs_background": "light"
     },
     "output_type": "display_data"
    }
   ],
   "source": [
    "fig = plt.figure(figsize = (8,8))\n",
    "plt.scatter(d1_df[0], d1_df[1], c = d1_df['cluster'], s = 10)\n",
    "plt.xlim([-4,4])\n",
    "plt.ylim([-4,4])\n",
    "plt.grid()\n",
    "plt.show()"
   ]
  },
  {
   "cell_type": "code",
   "execution_count": 32,
   "metadata": {},
   "outputs": [
    {
     "name": "stdout",
     "output_type": "stream",
     "text": [
      "14\n"
     ]
    },
    {
     "data": {
      "image/png": "[encoded data removed]",
      "text/plain": [
       "<Figure size 576x576 with 1 Axes>"
      ]
     },
     "metadata": {
      "needs_background": "light"
     },
     "output_type": "display_data"
    },
    {
     "name": "stdout",
     "output_type": "stream",
     "text": [
      "4\n"
     ]
    },
    {
     "data": {
      "image/png": "[encoded data removed]",
      "text/plain": [
       "<Figure size 576x576 with 1 Axes>"
      ]
     },
     "metadata": {
      "needs_background": "light"
     },
     "output_type": "display_data"
    },
    {
     "name": "stdout",
     "output_type": "stream",
     "text": [
      "5\n"
     ]
    },
    {
     "data": {
      "image/png": "[encoded data removed]",
      "text/plain": [
       "<Figure size 576x576 with 1 Axes>"
      ]
     },
     "metadata": {
      "needs_background": "light"
     },
     "output_type": "display_data"
    },
    {
     "name": "stdout",
     "output_type": "stream",
     "text": [
      "6\n"
     ]
    },
    {
     "data": {
      "image/png": "[encoded data removed]",
      "text/plain": [
       "<Figure size 576x576 with 1 Axes>"
      ]
     },
     "metadata": {
      "needs_background": "light"
     },
     "output_type": "display_data"
    },
    {
     "name": "stdout",
     "output_type": "stream",
     "text": [
      "18\n"
     ]
    },
    {
     "data": {
      "image/png": "[encoded data removed]",
      "text/plain": [
       "<Figure size 576x576 with 1 Axes>"
      ]
     },
     "metadata": {
      "needs_background": "light"
     },
     "output_type": "display_data"
    },
    {
     "name": "stdout",
     "output_type": "stream",
     "text": [
      "16\n"
     ]
    },
    {
     "data": {
      "image/png": "[encoded data removed]",
      "text/plain": [
       "<Figure size 576x576 with 1 Axes>"
      ]
     },
     "metadata": {
      "needs_background": "light"
     },
     "output_type": "display_data"
    },
    {
     "name": "stdout",
     "output_type": "stream",
     "text": [
      "12\n"
     ]
    },
    {
     "data": {
      "image/png": "[encoded data removed]",
      "text/plain": [
       "<Figure size 576x576 with 1 Axes>"
      ]
     },
     "metadata": {
      "needs_background": "light"
     },
     "output_type": "display_data"
    },
    {
     "name": "stdout",
     "output_type": "stream",
     "text": [
      "8\n"
     ]
    },
    {
     "data": {
      "image/png": "[encoded data removed]",
      "text/plain": [
       "<Figure size 576x576 with 1 Axes>"
      ]
     },
     "metadata": {
      "needs_background": "light"
     },
     "output_type": "display_data"
    },
    {
     "name": "stdout",
     "output_type": "stream",
     "text": [
      "3\n"
     ]
    },
    {
     "data": {
      "image/png": "[encoded data removed]",
      "text/plain": [
       "<Figure size 576x576 with 1 Axes>"
      ]
     },
     "metadata": {
      "needs_background": "light"
     },
     "output_type": "display_data"
    },
    {
     "name": "stdout",
     "output_type": "stream",
     "text": [
      "2\n"
     ]
    },
    {
     "data": {
      "image/png": "[encoded data removed]",
      "text/plain": [
       "<Figure size 576x576 with 1 Axes>"
      ]
     },
     "metadata": {
      "needs_background": "light"
     },
     "output_type": "display_data"
    }
   ],
   "source": [
    "for cluster in un:\n",
    "    print(cluster)\n",
    "    fig = plt.figure(figsize = (8,8))\n",
    "    plt.scatter(d1_df[d1_df['cluster']==cluster][0], d1_df[d1_df['cluster']==cluster][1], s = 10)\n",
    "    plt.xlim([-4,4])\n",
    "    plt.ylim([-4,4])\n",
    "    plt.grid()\n",
    "    plt.show()"
   ]
  }
 ],
 "metadata": {
  "kernelspec": {
   "display_name": "Python 3",
   "language": "python",
   "name": "python3"
  },
  "language_info": {
   "codemirror_mode": {
    "name": "ipython",
    "version": 3
   },
   "file_extension": ".py",
   "mimetype": "text/x-python",
   "name": "python",
   "nbconvert_exporter": "python",
   "pygments_lexer": "ipython3",
   "version": "3.6.13"
  }
 },
 "nbformat": 4,
 "nbformat_minor": 4
}
