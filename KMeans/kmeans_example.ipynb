{
 "cells": [
  {
   "cell_type": "code",
   "execution_count": 152,
   "metadata": {},
   "outputs": [],
   "source": [
    "import numpy as np\n",
    "import matplotlib.pyplot as plt\n",
    "from sklearn.datasets import make_blobs\n",
    "from sklearn.metrics import silhouette_score\n",
    "from sklearn.cluster import KMeans\n",
    "from tqdm import tqdm\n",
    "import pandas as pd\n",
    "import string\n",
    "from typing import Optional"
   ]
  },
  {
   "cell_type": "code",
   "execution_count": 2,
   "metadata": {},
   "outputs": [],
   "source": [
    "from navec import Navec\n",
    "path = 'navec_hudlit_v1_12B_500K_300d_100q.tar'\n",
    "navec = Navec.load(path)"
   ]
  },
  {
   "cell_type": "code",
   "execution_count": 54,
   "metadata": {},
   "outputs": [],
   "source": [
    "data = pd.read_csv('keyPhrases.csv', header=None)"
   ]
  },
  {
   "cell_type": "code",
   "execution_count": 55,
   "metadata": {
    "scrolled": false
   },
   "outputs": [
    {
     "data": {
      "text/html": [
       "<div>\n",
       "<style scoped>\n",
       "    .dataframe tbody tr th:only-of-type {\n",
       "        vertical-align: middle;\n",
       "    }\n",
       "\n",
       "    .dataframe tbody tr th {\n",
       "        vertical-align: top;\n",
       "    }\n",
       "\n",
       "    .dataframe thead th {\n",
       "        text-align: right;\n",
       "    }\n",
       "</style>\n",
       "<table border=\"1\" class=\"dataframe\">\n",
       "  <thead>\n",
       "    <tr style=\"text-align: right;\">\n",
       "      <th></th>\n",
       "      <th>0</th>\n",
       "    </tr>\n",
       "  </thead>\n",
       "  <tbody>\n",
       "    <tr>\n",
       "      <th>0</th>\n",
       "      <td>интеллектуальный капитал</td>\n",
       "    </tr>\n",
       "    <tr>\n",
       "      <th>1</th>\n",
       "      <td>оценка уровня интеллектуального капитала вуза</td>\n",
       "    </tr>\n",
       "    <tr>\n",
       "      <th>2</th>\n",
       "      <td>интеграционные объединения</td>\n",
       "    </tr>\n",
       "    <tr>\n",
       "      <th>3</th>\n",
       "      <td>гармонизация отношений</td>\n",
       "    </tr>\n",
       "    <tr>\n",
       "      <th>4</th>\n",
       "      <td>единое информационное пространство</td>\n",
       "    </tr>\n",
       "    <tr>\n",
       "      <th>...</th>\n",
       "      <td>...</td>\n",
       "    </tr>\n",
       "    <tr>\n",
       "      <th>1325</th>\n",
       "      <td>регионы</td>\n",
       "    </tr>\n",
       "    <tr>\n",
       "      <th>1326</th>\n",
       "      <td>стоимость предприятия</td>\n",
       "    </tr>\n",
       "    <tr>\n",
       "      <th>1327</th>\n",
       "      <td>проекты развития</td>\n",
       "    </tr>\n",
       "    <tr>\n",
       "      <th>1328</th>\n",
       "      <td>инновации</td>\n",
       "    </tr>\n",
       "    <tr>\n",
       "      <th>1329</th>\n",
       "      <td>экономическая добавленная стоимость</td>\n",
       "    </tr>\n",
       "  </tbody>\n",
       "</table>\n",
       "<p>1330 rows × 1 columns</p>\n",
       "</div>"
      ],
      "text/plain": [
       "                                                  0\n",
       "0                          интеллектуальный капитал\n",
       "1     оценка уровня интеллектуального капитала вуза\n",
       "2                        интеграционные объединения\n",
       "3                            гармонизация отношений\n",
       "4                единое информационное пространство\n",
       "...                                             ...\n",
       "1325                                        регионы\n",
       "1326                          стоимость предприятия\n",
       "1327                               проекты развития\n",
       "1328                                      инновации\n",
       "1329            экономическая добавленная стоимость\n",
       "\n",
       "[1330 rows x 1 columns]"
      ]
     },
     "execution_count": 55,
     "metadata": {},
     "output_type": "execute_result"
    }
   ],
   "source": [
    "data"
   ]
  },
  {
   "cell_type": "code",
   "execution_count": 56,
   "metadata": {},
   "outputs": [],
   "source": [
    "class PhraseEmbeddings:\n",
    "    def __init__(self, phrase, embbedings):\n",
    "        self.phrase: string = phrase\n",
    "        self.embbedings: [float] = embbedings\n",
    "\n",
    "def calculateEmbeddingsForSplittedPhrase(phrase: [string]) -> Optional[PhraseEmbeddings]:\n",
    "    embeddings: [[]] = []\n",
    "        \n",
    "    for word in phrase:\n",
    "        tempEmbedding = navec.get(word)\n",
    "\n",
    "        if tempEmbedding is not None:\n",
    "            embeddings.append(tempEmbedding)\n",
    "\n",
    "    if len(embeddings) != 0:\n",
    "        return PhraseEmbeddings(' '.join(phrase), np.mean(embeddings, axis=0))\n",
    "    else:\n",
    "        # return None -> if navec could not determine the embeddings of all words of the phrase.\n",
    "        return None"
   ]
  },
  {
   "cell_type": "code",
   "execution_count": 103,
   "metadata": {},
   "outputs": [],
   "source": [
    "emb = []\n",
    "phrases = []\n",
    "i = 0\n",
    "for row in data[0]:\n",
    "    if len(row.split()) == 1:\n",
    "        res = navec.get(row)\n",
    "        if res is not None:\n",
    "            emb.append(res)\n",
    "            phrases.append(row)\n",
    "    else:\n",
    "        res = calculateEmbeddingsForSplittedPhrase(np.array(row.split()))\n",
    "        if res is not None:\n",
    "            emb.append(res.embbedings)\n",
    "            phrases.append(row)"
   ]
  },
  {
   "cell_type": "code",
   "execution_count": 105,
   "metadata": {},
   "outputs": [],
   "source": [
    "Z = np.array(phrases)"
   ]
  },
  {
   "cell_type": "code",
   "execution_count": 108,
   "metadata": {},
   "outputs": [
    {
     "data": {
      "text/plain": [
       "(1281,)"
      ]
     },
     "execution_count": 108,
     "metadata": {},
     "output_type": "execute_result"
    }
   ],
   "source": [
    "Z.shape"
   ]
  },
  {
   "cell_type": "code",
   "execution_count": 76,
   "metadata": {
    "scrolled": true
   },
   "outputs": [],
   "source": [
    "X = np.array(emb)"
   ]
  },
  {
   "cell_type": "code",
   "execution_count": 77,
   "metadata": {},
   "outputs": [
    {
     "data": {
      "text/plain": [
       "(1281, 300)"
      ]
     },
     "execution_count": 77,
     "metadata": {},
     "output_type": "execute_result"
    }
   ],
   "source": [
    "X.shape"
   ]
  },
  {
   "cell_type": "code",
   "execution_count": 44,
   "metadata": {},
   "outputs": [],
   "source": [
    "np.random.seed(48)"
   ]
  },
  {
   "cell_type": "code",
   "execution_count": 85,
   "metadata": {},
   "outputs": [],
   "source": [
    "def euclidean_distance(x1, x2):\n",
    "    return np.sqrt(np.sum((x1 - x2) ** 2))\n",
    "\n",
    "\n",
    "class KMean:\n",
    "    def __init__(self, K=5, max_iters=100, plot_steps=False):\n",
    "        self.K = K\n",
    "        self.max_iters = max_iters\n",
    "        self.plot_steps = plot_steps\n",
    "\n",
    "        # list of samples indices for each cluster\n",
    "        self.clusters = [[] for _ in range(self.K)]\n",
    "        # mean feature vector for each cluster\n",
    "        self.centroinds = []\n",
    "\n",
    "    def predict(self, X):\n",
    "        self.X = X\n",
    "        self.n_samples, self.n_feature = X.shape\n",
    "\n",
    "        # initialize centroids\n",
    "        random_sample_idxs = np.random.choice(self.n_samples, self.K, replace=False)\n",
    "        self.centroinds = [self.X[idx] for idx in random_sample_idxs]\n",
    "        # optimization\n",
    "        for _ in range(self.max_iters):\n",
    "            # update clusters\n",
    "            self.clusters = self._create_clusters(self.centroinds)\n",
    "            if self.plot_steps:\n",
    "                self.plot()\n",
    "            # update centroids\n",
    "            centroids_old = self.centroinds\n",
    "            self.centroinds = self._get_centroids(self.clusters)\n",
    "            #if plot_steps: self.plot()\n",
    "            # check if converged\n",
    "            if self._is_converged(centroids_old, self.centroinds):\n",
    "                break\n",
    "        # return cluster labels\n",
    "        return self._get_cluster_labels(self.clusters)\n",
    "#        return self.clusters\n",
    "\n",
    "    def _get_cluster_labels(self, clusters):\n",
    "        labels = np.zeros(self.n_samples, dtype='int16')\n",
    "        for cluster_idx, cluster in enumerate(clusters):\n",
    "            for sample_idx in cluster:\n",
    "                labels[sample_idx] = cluster_idx\n",
    "        return labels\n",
    "\n",
    "    def _create_clusters(self, centroids):\n",
    "        clusters = [[] for _ in range(self.K)]\n",
    "        for idx, sample in enumerate(self.X):\n",
    "            centroid_idx = self._closest_centroid(sample, centroids)\n",
    "            clusters[centroid_idx].append(idx)\n",
    "        return clusters\n",
    "\n",
    "    def _closest_centroid(self, samples, centroids):\n",
    "        distances = [euclidean_distance(samples, point) for point in centroids]\n",
    "        closest_idx = np.argmin(distances)\n",
    "        return closest_idx\n",
    "\n",
    "    def _get_centroids(self, clusters):\n",
    "        centroids = np.zeros((self.K, self.n_feature))\n",
    "        for cluster_idx, cluster in enumerate(clusters):\n",
    "            cluster_mean = np.mean(self.X[cluster], axis=0)\n",
    "            centroids[cluster_idx] = cluster_mean\n",
    "        return centroids\n",
    "\n",
    "    def _is_converged(self, centroids_old, centroids):\n",
    "        distances = [euclidean_distance(centroids_old[i], centroids[i]) for i in range(self.K)]\n",
    "        return sum(distances) == 0\n",
    "\n",
    "    def plot(self):\n",
    "        fig, ax = plt.subplots(figsize=(12, 8))\n",
    "\n",
    "        for i, index in enumerate(self.clusters):\n",
    "            point = self.X[index].T\n",
    "            ax.scatter(*point)\n",
    "\n",
    "        for point in self.centroinds:\n",
    "            ax.scatter(*point, marker=\"x\", color=\"black\", linewidths=2)\n",
    "\n",
    "        plt.show()"
   ]
  },
  {
   "cell_type": "code",
   "execution_count": 77,
   "metadata": {
    "scrolled": true
   },
   "outputs": [
    {
     "name": "stdout",
     "output_type": "stream",
     "text": [
      "(500, 2)\n"
     ]
    }
   ],
   "source": [
    "# n_samples = 1330, n_features = 300 \n",
    "\n",
    "#X, y = make_blobs(centers=3, n_samples=500, n_features=2, shuffle=True, random_state=48)\n",
    "#print(X.shape)"
   ]
  },
  {
   "cell_type": "code",
   "execution_count": 7,
   "metadata": {
    "scrolled": true
   },
   "outputs": [
    {
     "name": "stdout",
     "output_type": "stream",
     "text": [
      "3\n"
     ]
    }
   ],
   "source": [
    "#clusters = len(np.unique(y))\n",
    "#print(clusters)"
   ]
  },
  {
   "cell_type": "code",
   "execution_count": 92,
   "metadata": {
    "scrolled": true
   },
   "outputs": [
    {
     "name": "stderr",
     "output_type": "stream",
     "text": [
      "100%|██████████| 9/9 [00:42<00:00,  4.69s/it]"
     ]
    },
    {
     "name": "stdout",
     "output_type": "stream",
     "text": [
      "[0.042182427, 0.06277062, 0.05752994, 0.050447207, 0.062023655, 0.053930223, 0.08093779, 0.081212096, 0.07802115]\n"
     ]
    },
    {
     "name": "stderr",
     "output_type": "stream",
     "text": [
      "\n"
     ]
    }
   ],
   "source": [
    "s = []\n",
    "k_max = 10\n",
    "\n",
    "for k in tqdm(range(2,k_max+1)):\n",
    "    y_pred = KMean(k).predict(X)\n",
    "    s1 = silhouette_score(X, y_pred)\n",
    "    s.append(s1)\n",
    "    \n",
    "print(s)"
   ]
  },
  {
   "cell_type": "code",
   "execution_count": 93,
   "metadata": {
    "scrolled": true
   },
   "outputs": [
    {
     "data": {
      "text/plain": [
       "[<matplotlib.lines.Line2D at 0xebce048>]"
      ]
     },
     "execution_count": 93,
     "metadata": {},
     "output_type": "execute_result"
    },
    {
     "data": {
      "image/png": "[encoded data removed]",
      "text/plain": [
       "<Figure size 432x288 with 1 Axes>"
      ]
     },
     "metadata": {
      "needs_background": "light"
     },
     "output_type": "display_data"
    }
   ],
   "source": [
    "plt.plot(range(2,k_max+1), s)"
   ]
  },
  {
   "cell_type": "code",
   "execution_count": 145,
   "metadata": {
    "scrolled": false
   },
   "outputs": [],
   "source": [
    "y_pred = KMean(K=8).predict(X)"
   ]
  },
  {
   "cell_type": "code",
   "execution_count": 153,
   "metadata": {},
   "outputs": [
    {
     "data": {
      "text/plain": [
       "KMeans()"
      ]
     },
     "execution_count": 153,
     "metadata": {},
     "output_type": "execute_result"
    }
   ],
   "source": [
    "kmm = KMeans(n_clusters=8)\n",
    "kmm.fit(X)"
   ]
  },
  {
   "cell_type": "code",
   "execution_count": 156,
   "metadata": {},
   "outputs": [
    {
     "data": {
      "text/plain": [
       "(array([ 76., 217., 291.,  50., 163., 184., 249.,  51.]),\n",
       " array([0.   , 0.875, 1.75 , 2.625, 3.5  , 4.375, 5.25 , 6.125, 7.   ]),\n",
       " <BarContainer object of 8 artists>)"
      ]
     },
     "execution_count": 156,
     "metadata": {},
     "output_type": "execute_result"
    },
    {
     "data": {
      "image/png": "[encoded data removed]",
      "text/plain": [
       "<Figure size 432x288 with 1 Axes>"
      ]
     },
     "metadata": {
      "needs_background": "light"
     },
     "output_type": "display_data"
    }
   ],
   "source": [
    "y_pred = kmm.labels_\n",
    "plt.hist(y_pred, bins=8)"
   ]
  },
  {
   "cell_type": "code",
   "execution_count": 167,
   "metadata": {},
   "outputs": [],
   "source": [
    "clusters = kmm.cluster_centers_\n",
    "clusters.shape\n",
    "pd.DataFrame(clusters).to_csv('clusters_1.csv', header=False)"
   ]
  },
  {
   "cell_type": "code",
   "execution_count": 138,
   "metadata": {},
   "outputs": [
    {
     "data": {
      "text/plain": [
       "1281"
      ]
     },
     "execution_count": 138,
     "metadata": {},
     "output_type": "execute_result"
    }
   ],
   "source": [
    "len(y_pred)"
   ]
  },
  {
   "cell_type": "code",
   "execution_count": 139,
   "metadata": {
    "scrolled": true
   },
   "outputs": [
    {
     "data": {
      "text/plain": [
       "(array([156.,  65.,  56., 199., 258.,   3., 393., 151.]),\n",
       " array([0.   , 0.875, 1.75 , 2.625, 3.5  , 4.375, 5.25 , 6.125, 7.   ]),\n",
       " <BarContainer object of 8 artists>)"
      ]
     },
     "execution_count": 139,
     "metadata": {},
     "output_type": "execute_result"
    },
    {
     "data": {
      "image/png": "[encoded data removed]",
      "text/plain": [
       "<Figure size 432x288 with 1 Axes>"
      ]
     },
     "metadata": {
      "needs_background": "light"
     },
     "output_type": "display_data"
    }
   ],
   "source": [
    "plt.hist(y_pred, bins=8)"
   ]
  },
  {
   "cell_type": "code",
   "execution_count": 159,
   "metadata": {
    "scrolled": false
   },
   "outputs": [],
   "source": [
    "topics = []\n",
    "for i in range(8):\n",
    "    topics.append(list())\n",
    "    \n",
    "for i, y in enumerate(y_pred):\n",
    "    #topics[y].append((i,Z[i]))\n",
    "    topics[y].append(Z[i])"
   ]
  },
  {
   "cell_type": "code",
   "execution_count": 168,
   "metadata": {},
   "outputs": [
    {
     "data": {
      "text/plain": [
       "['конкурентоспособность промышленных предприятий',\n",
       " 'стоимость',\n",
       " 'конкурентоспособность',\n",
       " 'качество',\n",
       " 'повышение конкурентоспособности',\n",
       " 'эффективность',\n",
       " 'оценка рисков',\n",
       " 'концентрация рынка банкострахования',\n",
       " 'региональная эффективность',\n",
       " 'конкурентоспособность',\n",
       " 'цена',\n",
       " 'заработная плата',\n",
       " 'эффективность',\n",
       " 'экономическая эффективность',\n",
       " 'экономическая эффективность',\n",
       " 'оценка инвестиций',\n",
       " 'стоимость',\n",
       " 'оценка сost',\n",
       " 'производительность труда',\n",
       " 'устойчивость',\n",
       " 'конкурентоспособность',\n",
       " 'эффективность деятельности',\n",
       " 'эффективность',\n",
       " 'индикативный показатель',\n",
       " 'конкуренция и конкурентоспособность',\n",
       " 'эффективность деятельности',\n",
       " 'экономическая эффективность',\n",
       " 'снижение затрат',\n",
       " 'ликвидность',\n",
       " 'платежеспособность',\n",
       " 'эффективность процессов',\n",
       " 'конкурентоспособность',\n",
       " 'оценка стоимости',\n",
       " 'надежность изделий',\n",
       " 'цена',\n",
       " 'ключевые показатели эффективности',\n",
       " 'показатели',\n",
       " 'ликвидность',\n",
       " 'платежеспособность',\n",
       " 'показатели эффективности планирования',\n",
       " 'абсолютные показатели',\n",
       " 'относительные показатели',\n",
       " 'эффективность',\n",
       " 'оценка эффективности',\n",
       " 'конкурентоспособность',\n",
       " 'эффективность',\n",
       " 'качество характеристик товара',\n",
       " 'экс-пертная оценка',\n",
       " 'показатели',\n",
       " 'значимость',\n",
       " 'показатели',\n",
       " 'эффективность',\n",
       " 'качество',\n",
       " 'долговечность',\n",
       " 'конкурентоспособность',\n",
       " 'конкурентоспособность',\n",
       " 'эффективность',\n",
       " 'эффективность',\n",
       " 'себестоимость',\n",
       " 'калькулирование себестоимости',\n",
       " 'эффективность',\n",
       " 'эффективность',\n",
       " 'эффективность',\n",
       " 'ключевые показатели эффективности',\n",
       " 'качественные показатели',\n",
       " 'количественные показатели',\n",
       " 'показатели качества',\n",
       " 'эффективность',\n",
       " 'конкурентоспособность',\n",
       " 'оценка эффективности',\n",
       " 'конкурентоспособность предприятий',\n",
       " 'оценка эффективности инновационно инвестиционного проекта',\n",
       " 'качество',\n",
       " 'рентабельность чистой прибыли',\n",
       " 'конкурентоспособность',\n",
       " 'конкурентоспособность']"
      ]
     },
     "execution_count": 168,
     "metadata": {},
     "output_type": "execute_result"
    }
   ],
   "source": [
    "topics[0]"
   ]
  }
 ],
 "metadata": {
  "kernelspec": {
   "display_name": "Python 3",
   "language": "python",
   "name": "python3"
  },
  "language_info": {
   "codemirror_mode": {
    "name": "ipython",
    "version": 3
   },
   "file_extension": ".py",
   "mimetype": "text/x-python",
   "name": "python",
   "nbconvert_exporter": "python",
   "pygments_lexer": "ipython3",
   "version": "3.6.12"
  }
 },
 "nbformat": 4,
 "nbformat_minor": 4
}
