{
 "cells": [
  {
   "cell_type": "code",
   "execution_count": 106,
   "metadata": {},
   "outputs": [],
   "source": [
    "import numpy as np\n",
    "import matplotlib.pyplot as plt\n",
    "from sklearn.datasets import make_blobs\n",
    "from sklearn.metrics import silhouette_score\n",
    "from tqdm import tqdm\n",
    "import pandas as pd\n",
    "import string\n",
    "from typing import Optional"
   ]
  },
  {
   "cell_type": "code",
   "execution_count": 73,
   "metadata": {},
   "outputs": [],
   "source": [
    "from navec import Navec\n",
    "path = 'navec_hudlit_v1_12B_500K_300d_100q.tar'\n",
    "navec = Navec.load(path)"
   ]
  },
  {
   "cell_type": "code",
   "execution_count": 83,
   "metadata": {},
   "outputs": [],
   "source": [
    "data = pd.read_csv('keyPhrases.csv', header=None)"
   ]
  },
  {
   "cell_type": "code",
   "execution_count": 84,
   "metadata": {
    "scrolled": false
   },
   "outputs": [
    {
     "data": {
      "text/html": [
       "<div>\n",
       "<style scoped>\n",
       "    .dataframe tbody tr th:only-of-type {\n",
       "        vertical-align: middle;\n",
       "    }\n",
       "\n",
       "    .dataframe tbody tr th {\n",
       "        vertical-align: top;\n",
       "    }\n",
       "\n",
       "    .dataframe thead th {\n",
       "        text-align: right;\n",
       "    }\n",
       "</style>\n",
       "<table border=\"1\" class=\"dataframe\">\n",
       "  <thead>\n",
       "    <tr style=\"text-align: right;\">\n",
       "      <th></th>\n",
       "      <th>0</th>\n",
       "    </tr>\n",
       "  </thead>\n",
       "  <tbody>\n",
       "    <tr>\n",
       "      <th>0</th>\n",
       "      <td>интеллектуальный капитал</td>\n",
       "    </tr>\n",
       "    <tr>\n",
       "      <th>1</th>\n",
       "      <td>оценка уровня интеллектуального капитала вуза</td>\n",
       "    </tr>\n",
       "    <tr>\n",
       "      <th>2</th>\n",
       "      <td>интеграционные объединения</td>\n",
       "    </tr>\n",
       "    <tr>\n",
       "      <th>3</th>\n",
       "      <td>гармонизация отношений</td>\n",
       "    </tr>\n",
       "    <tr>\n",
       "      <th>4</th>\n",
       "      <td>единое информационное пространство</td>\n",
       "    </tr>\n",
       "    <tr>\n",
       "      <th>...</th>\n",
       "      <td>...</td>\n",
       "    </tr>\n",
       "    <tr>\n",
       "      <th>1325</th>\n",
       "      <td>регионы</td>\n",
       "    </tr>\n",
       "    <tr>\n",
       "      <th>1326</th>\n",
       "      <td>стоимость предприятия</td>\n",
       "    </tr>\n",
       "    <tr>\n",
       "      <th>1327</th>\n",
       "      <td>проекты развития</td>\n",
       "    </tr>\n",
       "    <tr>\n",
       "      <th>1328</th>\n",
       "      <td>инновации</td>\n",
       "    </tr>\n",
       "    <tr>\n",
       "      <th>1329</th>\n",
       "      <td>экономическая добавленная стоимость</td>\n",
       "    </tr>\n",
       "  </tbody>\n",
       "</table>\n",
       "<p>1330 rows × 1 columns</p>\n",
       "</div>"
      ],
      "text/plain": [
       "                                                  0\n",
       "0                          интеллектуальный капитал\n",
       "1     оценка уровня интеллектуального капитала вуза\n",
       "2                        интеграционные объединения\n",
       "3                            гармонизация отношений\n",
       "4                единое информационное пространство\n",
       "...                                             ...\n",
       "1325                                        регионы\n",
       "1326                          стоимость предприятия\n",
       "1327                               проекты развития\n",
       "1328                                      инновации\n",
       "1329            экономическая добавленная стоимость\n",
       "\n",
       "[1330 rows x 1 columns]"
      ]
     },
     "execution_count": 84,
     "metadata": {},
     "output_type": "execute_result"
    }
   ],
   "source": [
    "data"
   ]
  },
  {
   "cell_type": "code",
   "execution_count": 108,
   "metadata": {},
   "outputs": [],
   "source": [
    "class PhraseEmbeddings:\n",
    "    def __init__(self, phrase, embbedings):\n",
    "        self.phrase: string = phrase\n",
    "        self.embbedings: [float] = embbedings\n",
    "\n",
    "def calculateEmbeddingsForSplittedPhrase(phrase: [string]) -> Optional[PhraseEmbeddings]:\n",
    "    embeddings: [[]] = []\n",
    "        \n",
    "    for word in phrase:\n",
    "        tempEmbedding = navec.get(word)\n",
    "\n",
    "        if tempEmbedding is not None:\n",
    "            embeddings.append(tempEmbedding)\n",
    "\n",
    "    if len(embeddings) != 0:\n",
    "        return PhraseEmbeddings(' '.join(phrase), embeddings)\n",
    "    else:\n",
    "        # return None -> if navec could not determine the embeddings of all words of the phrase.\n",
    "        return None"
   ]
  },
  {
   "cell_type": "code",
   "execution_count": 141,
   "metadata": {},
   "outputs": [],
   "source": [
    "e = calculateEmbeddingsForSplittedPhrase('интеллектуальный капитал')"
   ]
  },
  {
   "cell_type": "code",
   "execution_count": 143,
   "metadata": {},
   "outputs": [
    {
     "data": {
      "text/plain": [
       "array([-0.02038636, -0.4304574 , -0.31297466,  0.34323117,  0.14308096,\n",
       "        0.00447617,  0.10517868, -0.01821613, -0.1296933 , -0.30858454,\n",
       "        0.28430173,  0.02602685, -0.1070473 , -0.20268135,  0.04395203,\n",
       "        0.21980411,  0.22511992,  0.09016208, -0.016583  , -0.03686598,\n",
       "       -0.0653549 , -0.40943342,  0.2052517 ,  0.2360437 ,  0.04232125,\n",
       "        0.20862643,  0.21483725,  0.68034965,  0.04575434,  0.0501943 ,\n",
       "        0.10113248, -0.1415965 ,  0.7290677 ,  0.27665406,  0.08504464,\n",
       "       -0.06380272, -0.10665073,  0.07883653,  0.16016194, -0.10770592,\n",
       "       -0.12467895, -0.00377788,  0.06405913, -0.13345073, -0.20317075,\n",
       "        0.12492766, -0.0730844 ,  0.15780582, -0.061593  , -0.21363382,\n",
       "       -0.03520037, -0.31519416, -0.46981683,  0.18613097, -0.13061374,\n",
       "        0.15144172, -0.05440714, -0.07308158,  0.26481044, -0.13791753,\n",
       "        0.02916685, -0.22735387, -0.24164334, -0.04917087,  0.18061757,\n",
       "        0.1460473 , -0.1886088 , -0.05005212, -0.02564061, -0.04948248,\n",
       "       -0.13714659, -0.00213964,  0.47341037,  0.0303332 , -0.03562588,\n",
       "       -0.10824276,  0.21658576,  0.1336592 ,  0.13196704,  0.22791919,\n",
       "       -0.24038093, -0.00116967, -0.26934716, -0.28850716, -0.26884466,\n",
       "        0.2811833 , -0.62691414,  0.15025847,  0.0760457 ,  0.01689093,\n",
       "       -0.05259267, -0.06202536, -0.45476037, -0.2936397 , -0.21792276,\n",
       "        0.16655535, -0.39925164, -0.01132777, -0.10649176, -0.37535903,\n",
       "        0.27568758, -0.05220611, -0.09660881, -0.06512567,  0.25563252,\n",
       "       -0.09873948, -0.3302878 , -0.3115025 ,  0.32532698, -0.11285711,\n",
       "       -0.05224408,  0.02809861, -0.4906298 , -0.2911819 , -0.01930153,\n",
       "       -0.07171253, -0.182626  , -0.13962217,  0.00750127,  0.13970068,\n",
       "        0.04930351, -0.20579323,  0.32996213, -0.08020497,  0.09067198,\n",
       "       -0.00522469, -0.16561401, -0.06775082, -0.29724815, -0.10192821,\n",
       "       -0.02033659, -0.18790404, -0.06771551,  0.12147465, -0.20129544,\n",
       "        0.00340872,  0.11718079,  0.14675851,  0.58749294, -0.00575342,\n",
       "        0.3378889 , -0.03815195,  0.00529189, -0.4473738 ,  0.01930461,\n",
       "       -0.36512223,  0.1741485 ,  0.16404292, -0.10671906,  0.09978533,\n",
       "        0.2889322 ,  0.11784223,  0.10709044,  0.07600743,  0.04841787,\n",
       "       -0.07296993,  0.09692343,  0.07810402,  0.17130901, -0.23435587,\n",
       "       -0.5068004 ,  0.01481088, -0.32594118, -0.12261615,  0.05311427,\n",
       "        0.09290029,  0.03964382, -0.00626044,  0.01711274,  0.10957213,\n",
       "        0.22833087,  0.31861344,  0.21487308,  0.36785823,  0.05988869,\n",
       "        0.02092373,  0.24904747, -0.3000028 ,  0.2741875 , -0.0579816 ,\n",
       "       -0.13401626, -0.27094343,  0.01364183,  0.18719923, -0.07879864,\n",
       "       -0.39020923, -0.29440868, -0.06760337,  0.02439412,  0.38484347,\n",
       "       -0.22063589, -0.17787063,  0.23991574, -0.18202771, -0.09657341,\n",
       "        0.03533479,  0.09882364, -0.22355515,  0.31492996,  0.1310031 ,\n",
       "        0.19832924,  0.2918518 , -0.17863764, -0.20987359,  0.13750567,\n",
       "        0.44862488, -0.00493339,  0.13494591, -0.18059556, -0.08320817,\n",
       "       -0.41221747, -0.22291775, -0.13003144, -0.20576793, -0.35707805,\n",
       "        0.19399534,  0.2785339 ,  0.21626109, -0.07501857,  0.35463238,\n",
       "        0.18831795,  0.07945382, -0.29336095, -0.03188281, -0.06949016,\n",
       "        0.17543235, -0.14183052,  0.06974111,  0.04703452, -0.11019247,\n",
       "        0.19558285, -0.2331492 ,  0.24135107, -0.03618858,  0.20272489,\n",
       "        0.25753075,  0.05307662, -0.2403148 , -0.12434163, -0.04160242,\n",
       "        0.03212296,  0.3576482 , -0.0758407 , -0.31206793,  0.55415106,\n",
       "       -0.0214958 ,  0.04011095,  0.18556811, -0.02591524,  0.0400572 ,\n",
       "        0.08754022, -0.03213411, -0.1519731 ,  0.14540069,  0.23521258,\n",
       "       -0.15751718,  0.26217946,  0.19674695, -0.05548691, -0.09325218,\n",
       "        0.3364879 , -0.05278713, -0.04293533,  0.01076592,  0.17368063,\n",
       "        0.21208489,  0.52103883, -0.19720802,  0.06744175,  0.06099217,\n",
       "       -0.07526886,  0.10583183,  0.29891086,  0.1255804 , -0.31711352,\n",
       "       -0.16186821,  0.28956744, -0.0214928 ,  0.42708737, -0.06323079,\n",
       "       -0.04126424,  0.21706931,  0.10782363,  0.07305024, -0.26354975,\n",
       "       -0.08085386,  0.11290637,  0.03432796,  0.23029272,  0.11416899,\n",
       "        0.17731212,  0.03727378,  0.06290293, -0.09325744,  0.17125085,\n",
       "       -0.20854062,  0.00359384, -0.33653328, -0.17977868,  0.21336775],\n",
       "      dtype=float32)"
      ]
     },
     "execution_count": 143,
     "metadata": {},
     "output_type": "execute_result"
    }
   ],
   "source": [
    "e.embbedings[0]"
   ]
  },
  {
   "cell_type": "code",
   "execution_count": 136,
   "metadata": {},
   "outputs": [],
   "source": [
    "# Для каждой строки нужно вычислить эмбеддинги каждого из слов, а затем взять среднее значение\n",
    "# z = np.mean([x, y], axis=0), где x и y - эмбеддинги отдельных слов\n",
    "\n",
    "emb = []\n",
    "for row in data[0]:\n",
    "    emb.append(calculateEmbeddingsForSplittedPhrase(row))"
   ]
  },
  {
   "cell_type": "code",
   "execution_count": 140,
   "metadata": {},
   "outputs": [
    {
     "data": {
      "text/plain": [
       "300"
      ]
     },
     "execution_count": 140,
     "metadata": {},
     "output_type": "execute_result"
    }
   ],
   "source": [
    "len(emb[0].embbedings[0])"
   ]
  },
  {
   "cell_type": "code",
   "execution_count": 123,
   "metadata": {},
   "outputs": [
    {
     "data": {
      "text/plain": [
       "41"
      ]
     },
     "execution_count": 123,
     "metadata": {},
     "output_type": "execute_result"
    }
   ],
   "source": [
    "len(emb[1].embbedings)"
   ]
  },
  {
   "cell_type": "code",
   "execution_count": 3,
   "metadata": {},
   "outputs": [],
   "source": [
    "np.random.seed(48)"
   ]
  },
  {
   "cell_type": "code",
   "execution_count": 61,
   "metadata": {},
   "outputs": [],
   "source": [
    "def euclidean_distance(x1, x2):\n",
    "    return np.sqrt(np.sum((x1 - x2) ** 2))\n",
    "\n",
    "\n",
    "class KMean:\n",
    "    def __init__(self, K=5, max_iters=100, plot_steps=False):\n",
    "        self.K = K\n",
    "        self.max_iters = max_iters\n",
    "        self.plot_steps = plot_steps\n",
    "\n",
    "        # list of samples indices for each cluster\n",
    "        self.clusters = [[] for _ in range(self.K)]\n",
    "        # mean feature vector for each cluster\n",
    "        self.centroinds = []\n",
    "\n",
    "    def predict(self, X):\n",
    "        self.X = X\n",
    "        self.n_samples, self.n_feature = X.shape\n",
    "\n",
    "        # initialize centroids\n",
    "        random_sample_idxs = np.random.choice(self.n_samples, self.K, replace=False)\n",
    "        self.centroinds = [self.X[idx] for idx in random_sample_idxs]\n",
    "        # optimization\n",
    "        for _ in range(self.max_iters):\n",
    "            # update clusters\n",
    "            self.clusters = self._create_clusters(self.centroinds)\n",
    "            if self.plot_steps:\n",
    "                self.plot()\n",
    "            # update centroids\n",
    "            centroids_old = self.centroinds\n",
    "            self.centroinds = self._get_centroids(self.clusters)\n",
    "            if plot_steps: self.plot()\n",
    "            # check if converged\n",
    "            if self._is_converged(centroids_old, self.centroinds):\n",
    "                break\n",
    "        # return cluster labels\n",
    "        return self._get_cluster_labels(self.clusters)\n",
    "#        return self.clusters\n",
    "\n",
    "    def _get_cluster_labels(self, clusters):\n",
    "        labels = np.zeros(self.n_samples, dtype='int16')\n",
    "        for cluster_idx, cluster in enumerate(clusters):\n",
    "            for sample_idx in cluster:\n",
    "                labels[sample_idx] = cluster_idx\n",
    "        return labels\n",
    "\n",
    "    def _create_clusters(self, centroids):\n",
    "        clusters = [[] for _ in range(self.K)]\n",
    "        for idx, sample in enumerate(self.X):\n",
    "            centroid_idx = self._closest_centroid(sample, centroids)\n",
    "            clusters[centroid_idx].append(idx)\n",
    "        return clusters\n",
    "\n",
    "    def _closest_centroid(self, samples, centroids):\n",
    "        distances = [euclidean_distance(samples, point) for point in centroids]\n",
    "        closest_idx = np.argmin(distances)\n",
    "        return closest_idx\n",
    "\n",
    "    def _get_centroids(self, clusters):\n",
    "        centroids = np.zeros((self.K, self.n_feature))\n",
    "        for cluster_idx, cluster in enumerate(clusters):\n",
    "            cluster_mean = np.mean(self.X[cluster], axis=0)\n",
    "            centroids[cluster_idx] = cluster_mean\n",
    "        return centroids\n",
    "\n",
    "    def _is_converged(self, centroids_old, centroids):\n",
    "        distances = [euclidean_distance(centroids_old[i], centroids[i]) for i in range(self.K)]\n",
    "        return sum(distances) == 0\n",
    "\n",
    "    def plot(self):\n",
    "        fig, ax = plt.subplots(figsize=(12, 8))\n",
    "\n",
    "        for i, index in enumerate(self.clusters):\n",
    "            point = self.X[index].T\n",
    "            ax.scatter(*point)\n",
    "\n",
    "        for point in self.centroinds:\n",
    "            ax.scatter(*point, marker=\"x\", color=\"black\", linewidths=2)\n",
    "\n",
    "        plt.show()"
   ]
  },
  {
   "cell_type": "code",
   "execution_count": 77,
   "metadata": {},
   "outputs": [
    {
     "name": "stdout",
     "output_type": "stream",
     "text": [
      "(500, 2)\n"
     ]
    }
   ],
   "source": [
    "# n_samples = 1330, n_features = 300 \n",
    "\n",
    "X, y = make_blobs(centers=3, n_samples=500, n_features=2, shuffle=True, random_state=48)\n",
    "print(X.shape)"
   ]
  },
  {
   "cell_type": "code",
   "execution_count": 7,
   "metadata": {
    "scrolled": true
   },
   "outputs": [
    {
     "name": "stdout",
     "output_type": "stream",
     "text": [
      "3\n"
     ]
    }
   ],
   "source": [
    "clusters = len(np.unique(y))\n",
    "print(clusters)"
   ]
  },
  {
   "cell_type": "code",
   "execution_count": 62,
   "metadata": {
    "scrolled": false
   },
   "outputs": [],
   "source": [
    "y_pred = KMean(K=3).predict(X, plot_steps=True)"
   ]
  },
  {
   "cell_type": "code",
   "execution_count": 78,
   "metadata": {
    "scrolled": true
   },
   "outputs": [
    {
     "name": "stderr",
     "output_type": "stream",
     "text": [
      "100%|██████████| 9/9 [00:10<00:00,  1.18s/it]"
     ]
    },
    {
     "name": "stdout",
     "output_type": "stream",
     "text": [
      "[0.5809748931527899, 0.832283391882073, 0.6466906943768931, 0.4673581326685428, 0.4670502061333426, 0.4761636965924591, 0.4814464117544181, 0.3265589986567321, 0.3012162826983847]\n"
     ]
    },
    {
     "name": "stderr",
     "output_type": "stream",
     "text": [
      "\n"
     ]
    }
   ],
   "source": [
    "s = []\n",
    "k_max = 10\n",
    "\n",
    "for k in tqdm(range(2,k_max+1)):\n",
    "    y_pred = KMean(k).predict(X)\n",
    "    s1 = silhouette_score(X, y_pred)\n",
    "    s.append(s1)\n",
    "    \n",
    "print(s)"
   ]
  },
  {
   "cell_type": "code",
   "execution_count": 79,
   "metadata": {},
   "outputs": [
    {
     "data": {
      "text/plain": [
       "[<matplotlib.lines.Line2D at 0xfadbd68>]"
      ]
     },
     "execution_count": 79,
     "metadata": {},
     "output_type": "execute_result"
    },
    {
     "data": {
      "image/png": "[encoded data removed]",
      "text/plain": [
       "<Figure size 432x288 with 1 Axes>"
      ]
     },
     "metadata": {
      "needs_background": "light"
     },
     "output_type": "display_data"
    }
   ],
   "source": [
    "plt.plot(range(2,k_max+1), s)"
   ]
  }
 ],
 "metadata": {
  "kernelspec": {
   "display_name": "Python 3",
   "language": "python",
   "name": "python3"
  },
  "language_info": {
   "codemirror_mode": {
    "name": "ipython",
    "version": 3
   },
   "file_extension": ".py",
   "mimetype": "text/x-python",
   "name": "python",
   "nbconvert_exporter": "python",
   "pygments_lexer": "ipython3",
   "version": "3.6.12"
  }
 },
 "nbformat": 4,
 "nbformat_minor": 4
}
