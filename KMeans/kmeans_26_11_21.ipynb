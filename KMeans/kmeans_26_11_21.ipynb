{
 "cells": [
  {
   "cell_type": "code",
   "execution_count": 1,
   "metadata": {},
   "outputs": [],
   "source": [
    "import numpy as np\n",
    "import matplotlib.pyplot as plt\n",
    "import pandas as pd\n",
    "import string\n",
    "from typing import Optional\n",
    "from sklearn.cluster import KMeans\n",
    "from sklearn.decomposition import PCA"
   ]
  },
  {
   "cell_type": "code",
   "execution_count": 2,
   "metadata": {},
   "outputs": [],
   "source": [
    "from navec import Navec\n",
    "path = 'navec_hudlit_v1_12B_500K_300d_100q.tar'\n",
    "navec = Navec.load(path)"
   ]
  },
  {
   "cell_type": "code",
   "execution_count": 3,
   "metadata": {},
   "outputs": [],
   "source": [
    "data = pd.read_csv('book_new.csv', header=None)"
   ]
  },
  {
   "cell_type": "code",
   "execution_count": 4,
   "metadata": {
    "scrolled": false
   },
   "outputs": [
    {
     "data": {
      "text/html": [
       "<div>\n",
       "<style scoped>\n",
       "    .dataframe tbody tr th:only-of-type {\n",
       "        vertical-align: middle;\n",
       "    }\n",
       "\n",
       "    .dataframe tbody tr th {\n",
       "        vertical-align: top;\n",
       "    }\n",
       "\n",
       "    .dataframe thead th {\n",
       "        text-align: right;\n",
       "    }\n",
       "</style>\n",
       "<table border=\"1\" class=\"dataframe\">\n",
       "  <thead>\n",
       "    <tr style=\"text-align: right;\">\n",
       "      <th></th>\n",
       "      <th>0</th>\n",
       "    </tr>\n",
       "  </thead>\n",
       "  <tbody>\n",
       "    <tr>\n",
       "      <th>0</th>\n",
       "      <td>электронная торговля</td>\n",
       "    </tr>\n",
       "    <tr>\n",
       "      <th>1</th>\n",
       "      <td>локальные и глобальные экстремумы</td>\n",
       "    </tr>\n",
       "    <tr>\n",
       "      <th>2</th>\n",
       "      <td>перекредитование</td>\n",
       "    </tr>\n",
       "    <tr>\n",
       "      <th>3</th>\n",
       "      <td>робототехника</td>\n",
       "    </tr>\n",
       "    <tr>\n",
       "      <th>4</th>\n",
       "      <td>процессное управление</td>\n",
       "    </tr>\n",
       "    <tr>\n",
       "      <th>...</th>\n",
       "      <td>...</td>\n",
       "    </tr>\n",
       "    <tr>\n",
       "      <th>938</th>\n",
       "      <td>предприятие</td>\n",
       "    </tr>\n",
       "    <tr>\n",
       "      <th>939</th>\n",
       "      <td>кредитные ресурсы</td>\n",
       "    </tr>\n",
       "    <tr>\n",
       "      <th>940</th>\n",
       "      <td>рентабельность чистой прибыли</td>\n",
       "    </tr>\n",
       "    <tr>\n",
       "      <th>941</th>\n",
       "      <td>региональные вузы</td>\n",
       "    </tr>\n",
       "    <tr>\n",
       "      <th>942</th>\n",
       "      <td>модернизация</td>\n",
       "    </tr>\n",
       "  </tbody>\n",
       "</table>\n",
       "<p>943 rows × 1 columns</p>\n",
       "</div>"
      ],
      "text/plain": [
       "                                     0\n",
       "0                 электронная торговля\n",
       "1    локальные и глобальные экстремумы\n",
       "2                     перекредитование\n",
       "3                        робототехника\n",
       "4                процессное управление\n",
       "..                                 ...\n",
       "938                        предприятие\n",
       "939                  кредитные ресурсы\n",
       "940      рентабельность чистой прибыли\n",
       "941                  региональные вузы\n",
       "942                       модернизация\n",
       "\n",
       "[943 rows x 1 columns]"
      ]
     },
     "execution_count": 4,
     "metadata": {},
     "output_type": "execute_result"
    }
   ],
   "source": [
    "data"
   ]
  },
  {
   "cell_type": "code",
   "execution_count": 5,
   "metadata": {},
   "outputs": [],
   "source": [
    "class PhraseEmbeddings:\n",
    "    def __init__(self, phrase, embbedings):\n",
    "        self.phrase: string = phrase\n",
    "        self.embbedings: [float] = embbedings\n",
    "\n",
    "def calculateEmbeddingsForSplittedPhrase(phrase: [string]) -> Optional[PhraseEmbeddings]:\n",
    "    embeddings: [[]] = []\n",
    "        \n",
    "    for word in phrase:\n",
    "        tempEmbedding = navec.get(word)\n",
    "\n",
    "        if tempEmbedding is not None:\n",
    "            embeddings.append(tempEmbedding)\n",
    "\n",
    "    if len(embeddings) != 0:\n",
    "        return PhraseEmbeddings(' '.join(phrase), np.mean(embeddings, axis=0))\n",
    "    else:\n",
    "        # return None -> if navec could not determine the embeddings of all words of the phrase.\n",
    "        return None"
   ]
  },
  {
   "cell_type": "code",
   "execution_count": 6,
   "metadata": {},
   "outputs": [],
   "source": [
    "emb = []\n",
    "phrases = []\n",
    "i = 0\n",
    "for row in data[0]:\n",
    "    if len(row.split()) == 1:\n",
    "        res = navec.get(row)\n",
    "        if res is not None:\n",
    "            emb.append(res)\n",
    "            phrases.append(row)\n",
    "    else:\n",
    "        res = calculateEmbeddingsForSplittedPhrase(np.array(row.split()))\n",
    "        if res is not None:\n",
    "            emb.append(res.embbedings)\n",
    "            phrases.append(row)"
   ]
  },
  {
   "cell_type": "code",
   "execution_count": 7,
   "metadata": {},
   "outputs": [],
   "source": [
    "Z = np.array(phrases)"
   ]
  },
  {
   "cell_type": "code",
   "execution_count": 8,
   "metadata": {},
   "outputs": [
    {
     "data": {
      "text/plain": [
       "(907,)"
      ]
     },
     "execution_count": 8,
     "metadata": {},
     "output_type": "execute_result"
    }
   ],
   "source": [
    "Z.shape"
   ]
  },
  {
   "cell_type": "code",
   "execution_count": 9,
   "metadata": {
    "scrolled": true
   },
   "outputs": [],
   "source": [
    "X = np.array(emb)"
   ]
  },
  {
   "cell_type": "code",
   "execution_count": 10,
   "metadata": {},
   "outputs": [
    {
     "data": {
      "text/plain": [
       "(907, 300)"
      ]
     },
     "execution_count": 10,
     "metadata": {},
     "output_type": "execute_result"
    }
   ],
   "source": [
    "X.shape"
   ]
  },
  {
   "cell_type": "code",
   "execution_count": 11,
   "metadata": {},
   "outputs": [
    {
     "data": {
      "text/plain": [
       "(907, 300)"
      ]
     },
     "execution_count": 11,
     "metadata": {},
     "output_type": "execute_result"
    }
   ],
   "source": [
    "d1 = pd.DataFrame(X)\n",
    "d1.shape"
   ]
  },
  {
   "cell_type": "code",
   "execution_count": 12,
   "metadata": {},
   "outputs": [],
   "source": [
    "#pd.DataFrame(X).to_csv('keywords_embeddingd_25_11_21.csv', header=False, index=False)"
   ]
  },
  {
   "cell_type": "code",
   "execution_count": 13,
   "metadata": {},
   "outputs": [
    {
     "data": {
      "text/plain": [
       "KMeans(n_clusters=13, random_state=1)"
      ]
     },
     "execution_count": 13,
     "metadata": {},
     "output_type": "execute_result"
    }
   ],
   "source": [
    "k = 13\n",
    "kmm = KMeans(n_clusters=k, random_state=1)\n",
    "kmm.fit(X)"
   ]
  },
  {
   "cell_type": "code",
   "execution_count": 14,
   "metadata": {},
   "outputs": [],
   "source": [
    "#y_pred = fcm.u\n",
    "#y_pred.shape"
   ]
  },
  {
   "cell_type": "code",
   "execution_count": 15,
   "metadata": {},
   "outputs": [],
   "source": [
    "clusters = kmm.cluster_centers_"
   ]
  },
  {
   "cell_type": "code",
   "execution_count": 16,
   "metadata": {},
   "outputs": [
    {
     "data": {
      "text/plain": [
       "(13, 300)"
      ]
     },
     "execution_count": 16,
     "metadata": {},
     "output_type": "execute_result"
    }
   ],
   "source": [
    "d2 = pd.DataFrame(clusters)\n",
    "d2.shape"
   ]
  },
  {
   "cell_type": "code",
   "execution_count": 17,
   "metadata": {},
   "outputs": [
    {
     "data": {
      "text/plain": [
       "(13, 300)"
      ]
     },
     "execution_count": 17,
     "metadata": {},
     "output_type": "execute_result"
    }
   ],
   "source": [
    "d3 = pd.read_csv('publication.csv', header=None)\n",
    "d3.shape"
   ]
  },
  {
   "cell_type": "code",
   "execution_count": 18,
   "metadata": {},
   "outputs": [],
   "source": [
    "#pd.DataFrame(clusters).to_csv('cluster_centers_25_11_21.csv', header=False, index=False)"
   ]
  },
  {
   "cell_type": "code",
   "execution_count": 19,
   "metadata": {
    "scrolled": false
   },
   "outputs": [],
   "source": [
    "#topics = []\n",
    "\n",
    "#for i_word, y in enumerate(y_pred):\n",
    " #   for i, e in enumerate(y):\n",
    "  #      if e > 1/k:\n",
    "   #         topics.append([Z[i_word], i, (e-1/k)*1e8])"
   ]
  },
  {
   "cell_type": "code",
   "execution_count": 20,
   "metadata": {
    "scrolled": true
   },
   "outputs": [],
   "source": [
    "#dft = pd.DataFrame(topics, columns=['Ключевая фраза','Кластер', 'Вес'])"
   ]
  },
  {
   "cell_type": "code",
   "execution_count": 21,
   "metadata": {
    "scrolled": true
   },
   "outputs": [],
   "source": [
    "#dft"
   ]
  },
  {
   "cell_type": "code",
   "execution_count": 22,
   "metadata": {},
   "outputs": [],
   "source": [
    "#dft.to_csv('clustering_14_04_21.csv')"
   ]
  },
  {
   "cell_type": "code",
   "execution_count": 23,
   "metadata": {},
   "outputs": [
    {
     "data": {
      "text/plain": [
       "(933, 301)"
      ]
     },
     "execution_count": 23,
     "metadata": {},
     "output_type": "execute_result"
    }
   ],
   "source": [
    "d1['target'] = 'Elements'\n",
    "d2['target'] = 'Centers'\n",
    "d3['target'] = 'Keywords'\n",
    "data = d1.append(d2).append(d3)\n",
    "data = data.reset_index(drop=True)\n",
    "data.shape"
   ]
  },
  {
   "cell_type": "code",
   "execution_count": 24,
   "metadata": {},
   "outputs": [
    {
     "data": {
      "text/plain": [
       "(933, 3)"
      ]
     },
     "execution_count": 24,
     "metadata": {},
     "output_type": "execute_result"
    }
   ],
   "source": [
    "pca = PCA(n_components=2)\n",
    "data_2d = pca.fit_transform(data.iloc[:,:-1])\n",
    "data_df = pd.DataFrame(data_2d)\n",
    "data_df['target'] = data['target']\n",
    "data_df.shape"
   ]
  },
  {
   "cell_type": "code",
   "execution_count": 25,
   "metadata": {
    "scrolled": true
   },
   "outputs": [
    {
     "data": {
      "image/png": "[encoded data removed]",
      "text/plain": [
       "<Figure size 576x576 with 1 Axes>"
      ]
     },
     "metadata": {
      "needs_background": "light"
     },
     "output_type": "display_data"
    }
   ],
   "source": [
    "fig = plt.figure(figsize = (8,8))\n",
    "ax = fig.add_subplot(1,1,1)\n",
    "\n",
    "targets = ['Elements', 'Centers', 'Keywords']\n",
    "colors = ['g', 'b', 'r']\n",
    "markers = ['o', 'o', 'o']\n",
    "\n",
    "for target, color, marker in zip(targets,colors,markers):\n",
    "    indicesToKeep = data_df['target'] == target\n",
    "    ax.scatter(data_df.loc[indicesToKeep, 0]\n",
    "               , data_df.loc[indicesToKeep, 1]\n",
    "               , c = color\n",
    "               , s = 25\n",
    "               , marker = marker\n",
    "              )\n",
    "ax.legend(targets)\n",
    "ax.grid()"
   ]
  },
  {
   "cell_type": "code",
   "execution_count": 34,
   "metadata": {},
   "outputs": [
    {
     "data": {
      "image/png": "[encoded data removed]",
      "text/plain": [
       "<Figure size 576x576 with 1 Axes>"
      ]
     },
     "metadata": {
      "needs_background": "light"
     },
     "output_type": "display_data"
    }
   ],
   "source": [
    "fig = plt.figure(figsize = (8,8))\n",
    "ax = fig.add_subplot(1,1,1)\n",
    "\n",
    "targets = ['Centers', 'Keywords']\n",
    "colors = ['b', 'r']\n",
    "markers = ['o', 'o']\n",
    "\n",
    "for target, color, marker in zip(targets,colors,markers):\n",
    "    indicesToKeep = data_df['target'] == target\n",
    "    ax.scatter(data_df.loc[indicesToKeep, 0]\n",
    "               , data_df.loc[indicesToKeep, 1]\n",
    "               , c = color\n",
    "               , s = 25\n",
    "               , marker = marker\n",
    "              )\n",
    "ax.legend(targets)\n",
    "ax.grid()"
   ]
  },
  {
   "cell_type": "code",
   "execution_count": 27,
   "metadata": {
    "scrolled": true
   },
   "outputs": [
    {
     "data": {
      "text/html": [
       "<div>\n",
       "<style scoped>\n",
       "    .dataframe tbody tr th:only-of-type {\n",
       "        vertical-align: middle;\n",
       "    }\n",
       "\n",
       "    .dataframe tbody tr th {\n",
       "        vertical-align: top;\n",
       "    }\n",
       "\n",
       "    .dataframe thead th {\n",
       "        text-align: right;\n",
       "    }\n",
       "</style>\n",
       "<table border=\"1\" class=\"dataframe\">\n",
       "  <thead>\n",
       "    <tr style=\"text-align: right;\">\n",
       "      <th></th>\n",
       "      <th>0</th>\n",
       "      <th>1</th>\n",
       "      <th>2</th>\n",
       "      <th>3</th>\n",
       "      <th>4</th>\n",
       "      <th>5</th>\n",
       "      <th>6</th>\n",
       "      <th>7</th>\n",
       "      <th>8</th>\n",
       "      <th>9</th>\n",
       "      <th>...</th>\n",
       "      <th>292</th>\n",
       "      <th>293</th>\n",
       "      <th>294</th>\n",
       "      <th>295</th>\n",
       "      <th>296</th>\n",
       "      <th>297</th>\n",
       "      <th>298</th>\n",
       "      <th>299</th>\n",
       "      <th>target</th>\n",
       "      <th>cluster</th>\n",
       "    </tr>\n",
       "  </thead>\n",
       "  <tbody>\n",
       "    <tr>\n",
       "      <th>0</th>\n",
       "      <td>0.470398</td>\n",
       "      <td>0.112959</td>\n",
       "      <td>0.576481</td>\n",
       "      <td>0.284319</td>\n",
       "      <td>-0.299085</td>\n",
       "      <td>-0.224326</td>\n",
       "      <td>-0.123794</td>\n",
       "      <td>0.032323</td>\n",
       "      <td>0.204704</td>\n",
       "      <td>0.245813</td>\n",
       "      <td>...</td>\n",
       "      <td>-0.253576</td>\n",
       "      <td>-0.444092</td>\n",
       "      <td>0.272521</td>\n",
       "      <td>-0.530659</td>\n",
       "      <td>0.355826</td>\n",
       "      <td>0.271354</td>\n",
       "      <td>0.680932</td>\n",
       "      <td>-0.512406</td>\n",
       "      <td>Elements</td>\n",
       "      <td>11</td>\n",
       "    </tr>\n",
       "    <tr>\n",
       "      <th>1</th>\n",
       "      <td>0.049944</td>\n",
       "      <td>-0.155750</td>\n",
       "      <td>-0.163262</td>\n",
       "      <td>0.342427</td>\n",
       "      <td>0.344525</td>\n",
       "      <td>0.220851</td>\n",
       "      <td>0.145824</td>\n",
       "      <td>0.273347</td>\n",
       "      <td>0.079700</td>\n",
       "      <td>-0.416764</td>\n",
       "      <td>...</td>\n",
       "      <td>-0.085463</td>\n",
       "      <td>0.072925</td>\n",
       "      <td>0.030810</td>\n",
       "      <td>-0.426010</td>\n",
       "      <td>0.167298</td>\n",
       "      <td>0.435681</td>\n",
       "      <td>0.076551</td>\n",
       "      <td>0.146231</td>\n",
       "      <td>Elements</td>\n",
       "      <td>2</td>\n",
       "    </tr>\n",
       "    <tr>\n",
       "      <th>2</th>\n",
       "      <td>0.528656</td>\n",
       "      <td>0.087556</td>\n",
       "      <td>0.443964</td>\n",
       "      <td>-0.145310</td>\n",
       "      <td>-0.210084</td>\n",
       "      <td>-0.233264</td>\n",
       "      <td>0.310592</td>\n",
       "      <td>-0.061819</td>\n",
       "      <td>0.066595</td>\n",
       "      <td>0.219590</td>\n",
       "      <td>...</td>\n",
       "      <td>-0.423535</td>\n",
       "      <td>-0.439198</td>\n",
       "      <td>0.149286</td>\n",
       "      <td>0.226566</td>\n",
       "      <td>-0.068306</td>\n",
       "      <td>0.465650</td>\n",
       "      <td>0.187808</td>\n",
       "      <td>-0.547966</td>\n",
       "      <td>Elements</td>\n",
       "      <td>9</td>\n",
       "    </tr>\n",
       "    <tr>\n",
       "      <th>3</th>\n",
       "      <td>0.496091</td>\n",
       "      <td>-0.221561</td>\n",
       "      <td>0.102886</td>\n",
       "      <td>0.463391</td>\n",
       "      <td>-0.310837</td>\n",
       "      <td>-0.004631</td>\n",
       "      <td>-0.230791</td>\n",
       "      <td>-0.140402</td>\n",
       "      <td>0.273410</td>\n",
       "      <td>0.160696</td>\n",
       "      <td>...</td>\n",
       "      <td>-0.553314</td>\n",
       "      <td>-0.424678</td>\n",
       "      <td>0.583743</td>\n",
       "      <td>0.146704</td>\n",
       "      <td>-0.115241</td>\n",
       "      <td>-0.394309</td>\n",
       "      <td>0.059847</td>\n",
       "      <td>0.012294</td>\n",
       "      <td>Elements</td>\n",
       "      <td>10</td>\n",
       "    </tr>\n",
       "    <tr>\n",
       "      <th>4</th>\n",
       "      <td>0.325686</td>\n",
       "      <td>0.007507</td>\n",
       "      <td>0.568607</td>\n",
       "      <td>0.200070</td>\n",
       "      <td>0.303783</td>\n",
       "      <td>0.257717</td>\n",
       "      <td>-0.551907</td>\n",
       "      <td>-0.138469</td>\n",
       "      <td>0.155176</td>\n",
       "      <td>0.157008</td>\n",
       "      <td>...</td>\n",
       "      <td>-0.281144</td>\n",
       "      <td>-0.151199</td>\n",
       "      <td>0.285765</td>\n",
       "      <td>-0.678817</td>\n",
       "      <td>0.039957</td>\n",
       "      <td>0.485594</td>\n",
       "      <td>0.250473</td>\n",
       "      <td>0.650174</td>\n",
       "      <td>Elements</td>\n",
       "      <td>4</td>\n",
       "    </tr>\n",
       "    <tr>\n",
       "      <th>...</th>\n",
       "      <td>...</td>\n",
       "      <td>...</td>\n",
       "      <td>...</td>\n",
       "      <td>...</td>\n",
       "      <td>...</td>\n",
       "      <td>...</td>\n",
       "      <td>...</td>\n",
       "      <td>...</td>\n",
       "      <td>...</td>\n",
       "      <td>...</td>\n",
       "      <td>...</td>\n",
       "      <td>...</td>\n",
       "      <td>...</td>\n",
       "      <td>...</td>\n",
       "      <td>...</td>\n",
       "      <td>...</td>\n",
       "      <td>...</td>\n",
       "      <td>...</td>\n",
       "      <td>...</td>\n",
       "      <td>...</td>\n",
       "      <td>...</td>\n",
       "    </tr>\n",
       "    <tr>\n",
       "      <th>902</th>\n",
       "      <td>-0.039911</td>\n",
       "      <td>0.310089</td>\n",
       "      <td>-0.052410</td>\n",
       "      <td>0.690485</td>\n",
       "      <td>0.085759</td>\n",
       "      <td>-0.538098</td>\n",
       "      <td>-0.081525</td>\n",
       "      <td>-0.732197</td>\n",
       "      <td>0.128270</td>\n",
       "      <td>0.160696</td>\n",
       "      <td>...</td>\n",
       "      <td>-0.190175</td>\n",
       "      <td>-0.183027</td>\n",
       "      <td>-0.112056</td>\n",
       "      <td>0.058064</td>\n",
       "      <td>0.227423</td>\n",
       "      <td>-0.710195</td>\n",
       "      <td>0.474270</td>\n",
       "      <td>0.407580</td>\n",
       "      <td>Elements</td>\n",
       "      <td>8</td>\n",
       "    </tr>\n",
       "    <tr>\n",
       "      <th>903</th>\n",
       "      <td>-0.383756</td>\n",
       "      <td>0.240404</td>\n",
       "      <td>0.678290</td>\n",
       "      <td>0.307314</td>\n",
       "      <td>0.203173</td>\n",
       "      <td>-0.122892</td>\n",
       "      <td>-0.171259</td>\n",
       "      <td>-0.043626</td>\n",
       "      <td>-0.005897</td>\n",
       "      <td>-0.538416</td>\n",
       "      <td>...</td>\n",
       "      <td>0.495865</td>\n",
       "      <td>-0.275291</td>\n",
       "      <td>-0.508066</td>\n",
       "      <td>-0.477942</td>\n",
       "      <td>-0.214610</td>\n",
       "      <td>0.054864</td>\n",
       "      <td>0.455759</td>\n",
       "      <td>-0.196776</td>\n",
       "      <td>Elements</td>\n",
       "      <td>3</td>\n",
       "    </tr>\n",
       "    <tr>\n",
       "      <th>904</th>\n",
       "      <td>0.220746</td>\n",
       "      <td>-0.115841</td>\n",
       "      <td>-0.068942</td>\n",
       "      <td>0.492760</td>\n",
       "      <td>0.386467</td>\n",
       "      <td>0.067229</td>\n",
       "      <td>-0.147106</td>\n",
       "      <td>-0.217962</td>\n",
       "      <td>0.322650</td>\n",
       "      <td>-0.236095</td>\n",
       "      <td>...</td>\n",
       "      <td>-0.170360</td>\n",
       "      <td>0.219739</td>\n",
       "      <td>-0.176334</td>\n",
       "      <td>-0.161617</td>\n",
       "      <td>0.170335</td>\n",
       "      <td>0.026640</td>\n",
       "      <td>0.317188</td>\n",
       "      <td>0.440498</td>\n",
       "      <td>Elements</td>\n",
       "      <td>5</td>\n",
       "    </tr>\n",
       "    <tr>\n",
       "      <th>905</th>\n",
       "      <td>0.324901</td>\n",
       "      <td>-0.105517</td>\n",
       "      <td>-0.018070</td>\n",
       "      <td>0.002441</td>\n",
       "      <td>0.072228</td>\n",
       "      <td>0.218173</td>\n",
       "      <td>0.031727</td>\n",
       "      <td>0.002664</td>\n",
       "      <td>-0.121350</td>\n",
       "      <td>-0.336530</td>\n",
       "      <td>...</td>\n",
       "      <td>0.046304</td>\n",
       "      <td>0.116934</td>\n",
       "      <td>0.010155</td>\n",
       "      <td>-0.234406</td>\n",
       "      <td>-0.200940</td>\n",
       "      <td>0.259402</td>\n",
       "      <td>-0.085605</td>\n",
       "      <td>0.100587</td>\n",
       "      <td>Elements</td>\n",
       "      <td>3</td>\n",
       "    </tr>\n",
       "    <tr>\n",
       "      <th>906</th>\n",
       "      <td>0.325686</td>\n",
       "      <td>0.007507</td>\n",
       "      <td>0.568607</td>\n",
       "      <td>-0.473133</td>\n",
       "      <td>0.538820</td>\n",
       "      <td>0.350404</td>\n",
       "      <td>-0.383942</td>\n",
       "      <td>-0.436786</td>\n",
       "      <td>0.489475</td>\n",
       "      <td>0.290170</td>\n",
       "      <td>...</td>\n",
       "      <td>0.049562</td>\n",
       "      <td>-0.160159</td>\n",
       "      <td>0.428384</td>\n",
       "      <td>0.504725</td>\n",
       "      <td>-0.178634</td>\n",
       "      <td>0.124803</td>\n",
       "      <td>0.265882</td>\n",
       "      <td>-0.454380</td>\n",
       "      <td>Elements</td>\n",
       "      <td>11</td>\n",
       "    </tr>\n",
       "  </tbody>\n",
       "</table>\n",
       "<p>907 rows × 302 columns</p>\n",
       "</div>"
      ],
      "text/plain": [
       "            0         1         2         3         4         5         6  \\\n",
       "0    0.470398  0.112959  0.576481  0.284319 -0.299085 -0.224326 -0.123794   \n",
       "1    0.049944 -0.155750 -0.163262  0.342427  0.344525  0.220851  0.145824   \n",
       "2    0.528656  0.087556  0.443964 -0.145310 -0.210084 -0.233264  0.310592   \n",
       "3    0.496091 -0.221561  0.102886  0.463391 -0.310837 -0.004631 -0.230791   \n",
       "4    0.325686  0.007507  0.568607  0.200070  0.303783  0.257717 -0.551907   \n",
       "..        ...       ...       ...       ...       ...       ...       ...   \n",
       "902 -0.039911  0.310089 -0.052410  0.690485  0.085759 -0.538098 -0.081525   \n",
       "903 -0.383756  0.240404  0.678290  0.307314  0.203173 -0.122892 -0.171259   \n",
       "904  0.220746 -0.115841 -0.068942  0.492760  0.386467  0.067229 -0.147106   \n",
       "905  0.324901 -0.105517 -0.018070  0.002441  0.072228  0.218173  0.031727   \n",
       "906  0.325686  0.007507  0.568607 -0.473133  0.538820  0.350404 -0.383942   \n",
       "\n",
       "            7         8         9  ...       292       293       294  \\\n",
       "0    0.032323  0.204704  0.245813  ... -0.253576 -0.444092  0.272521   \n",
       "1    0.273347  0.079700 -0.416764  ... -0.085463  0.072925  0.030810   \n",
       "2   -0.061819  0.066595  0.219590  ... -0.423535 -0.439198  0.149286   \n",
       "3   -0.140402  0.273410  0.160696  ... -0.553314 -0.424678  0.583743   \n",
       "4   -0.138469  0.155176  0.157008  ... -0.281144 -0.151199  0.285765   \n",
       "..        ...       ...       ...  ...       ...       ...       ...   \n",
       "902 -0.732197  0.128270  0.160696  ... -0.190175 -0.183027 -0.112056   \n",
       "903 -0.043626 -0.005897 -0.538416  ...  0.495865 -0.275291 -0.508066   \n",
       "904 -0.217962  0.322650 -0.236095  ... -0.170360  0.219739 -0.176334   \n",
       "905  0.002664 -0.121350 -0.336530  ...  0.046304  0.116934  0.010155   \n",
       "906 -0.436786  0.489475  0.290170  ...  0.049562 -0.160159  0.428384   \n",
       "\n",
       "          295       296       297       298       299    target  cluster  \n",
       "0   -0.530659  0.355826  0.271354  0.680932 -0.512406  Elements       11  \n",
       "1   -0.426010  0.167298  0.435681  0.076551  0.146231  Elements        2  \n",
       "2    0.226566 -0.068306  0.465650  0.187808 -0.547966  Elements        9  \n",
       "3    0.146704 -0.115241 -0.394309  0.059847  0.012294  Elements       10  \n",
       "4   -0.678817  0.039957  0.485594  0.250473  0.650174  Elements        4  \n",
       "..        ...       ...       ...       ...       ...       ...      ...  \n",
       "902  0.058064  0.227423 -0.710195  0.474270  0.407580  Elements        8  \n",
       "903 -0.477942 -0.214610  0.054864  0.455759 -0.196776  Elements        3  \n",
       "904 -0.161617  0.170335  0.026640  0.317188  0.440498  Elements        5  \n",
       "905 -0.234406 -0.200940  0.259402 -0.085605  0.100587  Elements        3  \n",
       "906  0.504725 -0.178634  0.124803  0.265882 -0.454380  Elements       11  \n",
       "\n",
       "[907 rows x 302 columns]"
      ]
     },
     "execution_count": 27,
     "metadata": {},
     "output_type": "execute_result"
    }
   ],
   "source": [
    "kmm_labels = kmm.labels_\n",
    "d1['cluster'] = kmm_labels\n",
    "un = pd.Series(kmm_labels).unique()\n",
    "d1"
   ]
  },
  {
   "cell_type": "code",
   "execution_count": 28,
   "metadata": {
    "scrolled": true
   },
   "outputs": [
    {
     "data": {
      "text/html": [
       "<div>\n",
       "<style scoped>\n",
       "    .dataframe tbody tr th:only-of-type {\n",
       "        vertical-align: middle;\n",
       "    }\n",
       "\n",
       "    .dataframe tbody tr th {\n",
       "        vertical-align: top;\n",
       "    }\n",
       "\n",
       "    .dataframe thead th {\n",
       "        text-align: right;\n",
       "    }\n",
       "</style>\n",
       "<table border=\"1\" class=\"dataframe\">\n",
       "  <thead>\n",
       "    <tr style=\"text-align: right;\">\n",
       "      <th></th>\n",
       "      <th>0</th>\n",
       "      <th>1</th>\n",
       "      <th>cluster</th>\n",
       "    </tr>\n",
       "  </thead>\n",
       "  <tbody>\n",
       "    <tr>\n",
       "      <th>0</th>\n",
       "      <td>0.993817</td>\n",
       "      <td>-0.260955</td>\n",
       "      <td>11</td>\n",
       "    </tr>\n",
       "    <tr>\n",
       "      <th>1</th>\n",
       "      <td>-0.499884</td>\n",
       "      <td>0.240693</td>\n",
       "      <td>2</td>\n",
       "    </tr>\n",
       "    <tr>\n",
       "      <th>2</th>\n",
       "      <td>2.792033</td>\n",
       "      <td>-0.807055</td>\n",
       "      <td>9</td>\n",
       "    </tr>\n",
       "    <tr>\n",
       "      <th>3</th>\n",
       "      <td>-1.448811</td>\n",
       "      <td>0.288232</td>\n",
       "      <td>10</td>\n",
       "    </tr>\n",
       "    <tr>\n",
       "      <th>4</th>\n",
       "      <td>1.024673</td>\n",
       "      <td>1.840992</td>\n",
       "      <td>4</td>\n",
       "    </tr>\n",
       "    <tr>\n",
       "      <th>...</th>\n",
       "      <td>...</td>\n",
       "      <td>...</td>\n",
       "      <td>...</td>\n",
       "    </tr>\n",
       "    <tr>\n",
       "      <th>902</th>\n",
       "      <td>0.108733</td>\n",
       "      <td>2.416259</td>\n",
       "      <td>8</td>\n",
       "    </tr>\n",
       "    <tr>\n",
       "      <th>903</th>\n",
       "      <td>-0.139791</td>\n",
       "      <td>1.613365</td>\n",
       "      <td>3</td>\n",
       "    </tr>\n",
       "    <tr>\n",
       "      <th>904</th>\n",
       "      <td>0.150237</td>\n",
       "      <td>0.782924</td>\n",
       "      <td>5</td>\n",
       "    </tr>\n",
       "    <tr>\n",
       "      <th>905</th>\n",
       "      <td>0.784476</td>\n",
       "      <td>0.757715</td>\n",
       "      <td>3</td>\n",
       "    </tr>\n",
       "    <tr>\n",
       "      <th>906</th>\n",
       "      <td>1.034252</td>\n",
       "      <td>-1.542412</td>\n",
       "      <td>11</td>\n",
       "    </tr>\n",
       "  </tbody>\n",
       "</table>\n",
       "<p>907 rows × 3 columns</p>\n",
       "</div>"
      ],
      "text/plain": [
       "            0         1  cluster\n",
       "0    0.993817 -0.260955       11\n",
       "1   -0.499884  0.240693        2\n",
       "2    2.792033 -0.807055        9\n",
       "3   -1.448811  0.288232       10\n",
       "4    1.024673  1.840992        4\n",
       "..        ...       ...      ...\n",
       "902  0.108733  2.416259        8\n",
       "903 -0.139791  1.613365        3\n",
       "904  0.150237  0.782924        5\n",
       "905  0.784476  0.757715        3\n",
       "906  1.034252 -1.542412       11\n",
       "\n",
       "[907 rows x 3 columns]"
      ]
     },
     "execution_count": 28,
     "metadata": {},
     "output_type": "execute_result"
    }
   ],
   "source": [
    "pca2 = PCA(n_components=2)\n",
    "d1_2d = pca2.fit_transform(d1.iloc[:,:-2])\n",
    "d1_df = pd.DataFrame(d1_2d)\n",
    "d1_df['cluster'] = d1['cluster']\n",
    "d1_df"
   ]
  },
  {
   "cell_type": "code",
   "execution_count": 29,
   "metadata": {},
   "outputs": [
    {
     "data": {
      "text/plain": [
       "array([11,  2,  9, 10,  4,  3,  5, 12,  1,  8,  6,  7,  0])"
      ]
     },
     "execution_count": 29,
     "metadata": {},
     "output_type": "execute_result"
    }
   ],
   "source": [
    "un"
   ]
  },
  {
   "cell_type": "code",
   "execution_count": 30,
   "metadata": {},
   "outputs": [
    {
     "data": {
      "text/html": [
       "<div>\n",
       "<style scoped>\n",
       "    .dataframe tbody tr th:only-of-type {\n",
       "        vertical-align: middle;\n",
       "    }\n",
       "\n",
       "    .dataframe tbody tr th {\n",
       "        vertical-align: top;\n",
       "    }\n",
       "\n",
       "    .dataframe thead th {\n",
       "        text-align: right;\n",
       "    }\n",
       "</style>\n",
       "<table border=\"1\" class=\"dataframe\">\n",
       "  <thead>\n",
       "    <tr style=\"text-align: right;\">\n",
       "      <th></th>\n",
       "      <th>0</th>\n",
       "      <th>1</th>\n",
       "      <th>2</th>\n",
       "      <th>3</th>\n",
       "      <th>4</th>\n",
       "      <th>5</th>\n",
       "      <th>6</th>\n",
       "      <th>7</th>\n",
       "      <th>8</th>\n",
       "      <th>9</th>\n",
       "      <th>...</th>\n",
       "      <th>292</th>\n",
       "      <th>293</th>\n",
       "      <th>294</th>\n",
       "      <th>295</th>\n",
       "      <th>296</th>\n",
       "      <th>297</th>\n",
       "      <th>298</th>\n",
       "      <th>299</th>\n",
       "      <th>target</th>\n",
       "      <th>cluster</th>\n",
       "    </tr>\n",
       "  </thead>\n",
       "  <tbody>\n",
       "    <tr>\n",
       "      <th>0</th>\n",
       "      <td>-0.043958</td>\n",
       "      <td>0.198178</td>\n",
       "      <td>-0.004119</td>\n",
       "      <td>0.395353</td>\n",
       "      <td>0.030872</td>\n",
       "      <td>0.226213</td>\n",
       "      <td>-0.145709</td>\n",
       "      <td>-0.071883</td>\n",
       "      <td>0.230614</td>\n",
       "      <td>0.140340</td>\n",
       "      <td>...</td>\n",
       "      <td>-0.029378</td>\n",
       "      <td>-0.189107</td>\n",
       "      <td>0.330802</td>\n",
       "      <td>-0.401223</td>\n",
       "      <td>-0.262590</td>\n",
       "      <td>0.111565</td>\n",
       "      <td>0.458182</td>\n",
       "      <td>0.592877</td>\n",
       "      <td>Centers</td>\n",
       "      <td>0</td>\n",
       "    </tr>\n",
       "    <tr>\n",
       "      <th>1</th>\n",
       "      <td>0.035649</td>\n",
       "      <td>0.030506</td>\n",
       "      <td>-0.103990</td>\n",
       "      <td>0.013977</td>\n",
       "      <td>-0.114839</td>\n",
       "      <td>0.244576</td>\n",
       "      <td>-0.093401</td>\n",
       "      <td>0.107809</td>\n",
       "      <td>0.076731</td>\n",
       "      <td>0.247257</td>\n",
       "      <td>...</td>\n",
       "      <td>-0.149185</td>\n",
       "      <td>0.047913</td>\n",
       "      <td>0.235149</td>\n",
       "      <td>-0.138552</td>\n",
       "      <td>-0.067530</td>\n",
       "      <td>0.081365</td>\n",
       "      <td>0.264425</td>\n",
       "      <td>0.230328</td>\n",
       "      <td>Centers</td>\n",
       "      <td>1</td>\n",
       "    </tr>\n",
       "    <tr>\n",
       "      <th>2</th>\n",
       "      <td>0.078062</td>\n",
       "      <td>0.085254</td>\n",
       "      <td>-0.099008</td>\n",
       "      <td>0.243644</td>\n",
       "      <td>0.088558</td>\n",
       "      <td>0.193595</td>\n",
       "      <td>0.016571</td>\n",
       "      <td>0.173081</td>\n",
       "      <td>0.023014</td>\n",
       "      <td>-0.179443</td>\n",
       "      <td>...</td>\n",
       "      <td>0.068413</td>\n",
       "      <td>0.040560</td>\n",
       "      <td>-0.063934</td>\n",
       "      <td>-0.229099</td>\n",
       "      <td>-0.019599</td>\n",
       "      <td>0.305010</td>\n",
       "      <td>0.238988</td>\n",
       "      <td>0.224319</td>\n",
       "      <td>Centers</td>\n",
       "      <td>2</td>\n",
       "    </tr>\n",
       "    <tr>\n",
       "      <th>3</th>\n",
       "      <td>-0.045765</td>\n",
       "      <td>0.242696</td>\n",
       "      <td>0.083476</td>\n",
       "      <td>0.270023</td>\n",
       "      <td>0.140147</td>\n",
       "      <td>-0.097692</td>\n",
       "      <td>-0.072046</td>\n",
       "      <td>0.006370</td>\n",
       "      <td>-0.017715</td>\n",
       "      <td>-0.177062</td>\n",
       "      <td>...</td>\n",
       "      <td>0.112258</td>\n",
       "      <td>0.015333</td>\n",
       "      <td>-0.277686</td>\n",
       "      <td>-0.308358</td>\n",
       "      <td>-0.126223</td>\n",
       "      <td>0.059471</td>\n",
       "      <td>0.198156</td>\n",
       "      <td>0.123116</td>\n",
       "      <td>Centers</td>\n",
       "      <td>3</td>\n",
       "    </tr>\n",
       "    <tr>\n",
       "      <th>4</th>\n",
       "      <td>0.046163</td>\n",
       "      <td>-0.057393</td>\n",
       "      <td>0.234095</td>\n",
       "      <td>0.132351</td>\n",
       "      <td>-0.087152</td>\n",
       "      <td>-0.148804</td>\n",
       "      <td>-0.084959</td>\n",
       "      <td>-0.062194</td>\n",
       "      <td>0.263712</td>\n",
       "      <td>0.159431</td>\n",
       "      <td>...</td>\n",
       "      <td>0.016445</td>\n",
       "      <td>-0.118294</td>\n",
       "      <td>0.010362</td>\n",
       "      <td>-0.345792</td>\n",
       "      <td>-0.032943</td>\n",
       "      <td>0.019000</td>\n",
       "      <td>0.177469</td>\n",
       "      <td>0.276702</td>\n",
       "      <td>Centers</td>\n",
       "      <td>4</td>\n",
       "    </tr>\n",
       "    <tr>\n",
       "      <th>5</th>\n",
       "      <td>0.148519</td>\n",
       "      <td>0.048790</td>\n",
       "      <td>-0.106585</td>\n",
       "      <td>-0.028038</td>\n",
       "      <td>-0.144661</td>\n",
       "      <td>0.298523</td>\n",
       "      <td>0.039418</td>\n",
       "      <td>0.021183</td>\n",
       "      <td>0.122340</td>\n",
       "      <td>0.055940</td>\n",
       "      <td>...</td>\n",
       "      <td>0.074822</td>\n",
       "      <td>0.224518</td>\n",
       "      <td>-0.028177</td>\n",
       "      <td>-0.124830</td>\n",
       "      <td>-0.130876</td>\n",
       "      <td>0.111941</td>\n",
       "      <td>0.416253</td>\n",
       "      <td>0.314376</td>\n",
       "      <td>Centers</td>\n",
       "      <td>5</td>\n",
       "    </tr>\n",
       "    <tr>\n",
       "      <th>6</th>\n",
       "      <td>0.298331</td>\n",
       "      <td>-0.001616</td>\n",
       "      <td>0.345572</td>\n",
       "      <td>0.129884</td>\n",
       "      <td>0.074128</td>\n",
       "      <td>0.158234</td>\n",
       "      <td>0.022986</td>\n",
       "      <td>-0.098234</td>\n",
       "      <td>0.167308</td>\n",
       "      <td>0.106877</td>\n",
       "      <td>...</td>\n",
       "      <td>0.040148</td>\n",
       "      <td>0.075811</td>\n",
       "      <td>0.192296</td>\n",
       "      <td>-0.238324</td>\n",
       "      <td>0.179889</td>\n",
       "      <td>0.075283</td>\n",
       "      <td>0.218493</td>\n",
       "      <td>0.403985</td>\n",
       "      <td>Centers</td>\n",
       "      <td>6</td>\n",
       "    </tr>\n",
       "    <tr>\n",
       "      <th>7</th>\n",
       "      <td>0.296037</td>\n",
       "      <td>-0.018342</td>\n",
       "      <td>0.649552</td>\n",
       "      <td>0.277333</td>\n",
       "      <td>-0.080353</td>\n",
       "      <td>0.040069</td>\n",
       "      <td>-0.290086</td>\n",
       "      <td>-0.068315</td>\n",
       "      <td>0.389917</td>\n",
       "      <td>-0.247214</td>\n",
       "      <td>...</td>\n",
       "      <td>-0.013494</td>\n",
       "      <td>0.025421</td>\n",
       "      <td>-0.050543</td>\n",
       "      <td>0.234108</td>\n",
       "      <td>0.223128</td>\n",
       "      <td>-0.000346</td>\n",
       "      <td>-0.002639</td>\n",
       "      <td>-0.046647</td>\n",
       "      <td>Centers</td>\n",
       "      <td>7</td>\n",
       "    </tr>\n",
       "    <tr>\n",
       "      <th>8</th>\n",
       "      <td>0.218489</td>\n",
       "      <td>0.159234</td>\n",
       "      <td>0.093180</td>\n",
       "      <td>0.421586</td>\n",
       "      <td>0.119275</td>\n",
       "      <td>0.013747</td>\n",
       "      <td>-0.181376</td>\n",
       "      <td>-0.343775</td>\n",
       "      <td>0.226715</td>\n",
       "      <td>0.027227</td>\n",
       "      <td>...</td>\n",
       "      <td>0.027643</td>\n",
       "      <td>0.021314</td>\n",
       "      <td>-0.216547</td>\n",
       "      <td>-0.077004</td>\n",
       "      <td>0.088357</td>\n",
       "      <td>-0.205411</td>\n",
       "      <td>0.403605</td>\n",
       "      <td>0.385065</td>\n",
       "      <td>Centers</td>\n",
       "      <td>8</td>\n",
       "    </tr>\n",
       "    <tr>\n",
       "      <th>9</th>\n",
       "      <td>0.143695</td>\n",
       "      <td>0.306715</td>\n",
       "      <td>0.257316</td>\n",
       "      <td>-0.054389</td>\n",
       "      <td>0.033242</td>\n",
       "      <td>-0.133419</td>\n",
       "      <td>0.053793</td>\n",
       "      <td>0.001113</td>\n",
       "      <td>0.240110</td>\n",
       "      <td>0.158474</td>\n",
       "      <td>...</td>\n",
       "      <td>-0.021631</td>\n",
       "      <td>-0.099050</td>\n",
       "      <td>-0.033728</td>\n",
       "      <td>0.013336</td>\n",
       "      <td>-0.100416</td>\n",
       "      <td>0.344699</td>\n",
       "      <td>0.249794</td>\n",
       "      <td>-0.119383</td>\n",
       "      <td>Centers</td>\n",
       "      <td>9</td>\n",
       "    </tr>\n",
       "    <tr>\n",
       "      <th>10</th>\n",
       "      <td>0.351930</td>\n",
       "      <td>-0.084038</td>\n",
       "      <td>0.060200</td>\n",
       "      <td>0.442139</td>\n",
       "      <td>-0.229493</td>\n",
       "      <td>-0.007738</td>\n",
       "      <td>-0.205252</td>\n",
       "      <td>-0.000939</td>\n",
       "      <td>0.194351</td>\n",
       "      <td>0.193071</td>\n",
       "      <td>...</td>\n",
       "      <td>-0.347886</td>\n",
       "      <td>-0.350244</td>\n",
       "      <td>0.406470</td>\n",
       "      <td>0.081972</td>\n",
       "      <td>-0.047803</td>\n",
       "      <td>-0.193392</td>\n",
       "      <td>0.092602</td>\n",
       "      <td>0.002020</td>\n",
       "      <td>Centers</td>\n",
       "      <td>10</td>\n",
       "    </tr>\n",
       "    <tr>\n",
       "      <th>11</th>\n",
       "      <td>0.227698</td>\n",
       "      <td>0.170398</td>\n",
       "      <td>0.432230</td>\n",
       "      <td>-0.068422</td>\n",
       "      <td>-0.276635</td>\n",
       "      <td>0.120617</td>\n",
       "      <td>-0.066538</td>\n",
       "      <td>0.071497</td>\n",
       "      <td>0.287154</td>\n",
       "      <td>0.132150</td>\n",
       "      <td>...</td>\n",
       "      <td>-0.303713</td>\n",
       "      <td>0.065783</td>\n",
       "      <td>0.235553</td>\n",
       "      <td>-0.161592</td>\n",
       "      <td>0.008471</td>\n",
       "      <td>0.407673</td>\n",
       "      <td>0.338305</td>\n",
       "      <td>0.013273</td>\n",
       "      <td>Centers</td>\n",
       "      <td>11</td>\n",
       "    </tr>\n",
       "    <tr>\n",
       "      <th>12</th>\n",
       "      <td>0.216823</td>\n",
       "      <td>0.117469</td>\n",
       "      <td>0.153414</td>\n",
       "      <td>0.311334</td>\n",
       "      <td>0.044666</td>\n",
       "      <td>0.153855</td>\n",
       "      <td>-0.155772</td>\n",
       "      <td>0.018659</td>\n",
       "      <td>0.083621</td>\n",
       "      <td>0.146717</td>\n",
       "      <td>...</td>\n",
       "      <td>0.111714</td>\n",
       "      <td>-0.151049</td>\n",
       "      <td>0.130927</td>\n",
       "      <td>0.085145</td>\n",
       "      <td>-0.267120</td>\n",
       "      <td>0.206095</td>\n",
       "      <td>0.207614</td>\n",
       "      <td>0.302273</td>\n",
       "      <td>Centers</td>\n",
       "      <td>12</td>\n",
       "    </tr>\n",
       "  </tbody>\n",
       "</table>\n",
       "<p>13 rows × 302 columns</p>\n",
       "</div>"
      ],
      "text/plain": [
       "           0         1         2         3         4         5         6  \\\n",
       "0  -0.043958  0.198178 -0.004119  0.395353  0.030872  0.226213 -0.145709   \n",
       "1   0.035649  0.030506 -0.103990  0.013977 -0.114839  0.244576 -0.093401   \n",
       "2   0.078062  0.085254 -0.099008  0.243644  0.088558  0.193595  0.016571   \n",
       "3  -0.045765  0.242696  0.083476  0.270023  0.140147 -0.097692 -0.072046   \n",
       "4   0.046163 -0.057393  0.234095  0.132351 -0.087152 -0.148804 -0.084959   \n",
       "5   0.148519  0.048790 -0.106585 -0.028038 -0.144661  0.298523  0.039418   \n",
       "6   0.298331 -0.001616  0.345572  0.129884  0.074128  0.158234  0.022986   \n",
       "7   0.296037 -0.018342  0.649552  0.277333 -0.080353  0.040069 -0.290086   \n",
       "8   0.218489  0.159234  0.093180  0.421586  0.119275  0.013747 -0.181376   \n",
       "9   0.143695  0.306715  0.257316 -0.054389  0.033242 -0.133419  0.053793   \n",
       "10  0.351930 -0.084038  0.060200  0.442139 -0.229493 -0.007738 -0.205252   \n",
       "11  0.227698  0.170398  0.432230 -0.068422 -0.276635  0.120617 -0.066538   \n",
       "12  0.216823  0.117469  0.153414  0.311334  0.044666  0.153855 -0.155772   \n",
       "\n",
       "           7         8         9  ...       292       293       294       295  \\\n",
       "0  -0.071883  0.230614  0.140340  ... -0.029378 -0.189107  0.330802 -0.401223   \n",
       "1   0.107809  0.076731  0.247257  ... -0.149185  0.047913  0.235149 -0.138552   \n",
       "2   0.173081  0.023014 -0.179443  ...  0.068413  0.040560 -0.063934 -0.229099   \n",
       "3   0.006370 -0.017715 -0.177062  ...  0.112258  0.015333 -0.277686 -0.308358   \n",
       "4  -0.062194  0.263712  0.159431  ...  0.016445 -0.118294  0.010362 -0.345792   \n",
       "5   0.021183  0.122340  0.055940  ...  0.074822  0.224518 -0.028177 -0.124830   \n",
       "6  -0.098234  0.167308  0.106877  ...  0.040148  0.075811  0.192296 -0.238324   \n",
       "7  -0.068315  0.389917 -0.247214  ... -0.013494  0.025421 -0.050543  0.234108   \n",
       "8  -0.343775  0.226715  0.027227  ...  0.027643  0.021314 -0.216547 -0.077004   \n",
       "9   0.001113  0.240110  0.158474  ... -0.021631 -0.099050 -0.033728  0.013336   \n",
       "10 -0.000939  0.194351  0.193071  ... -0.347886 -0.350244  0.406470  0.081972   \n",
       "11  0.071497  0.287154  0.132150  ... -0.303713  0.065783  0.235553 -0.161592   \n",
       "12  0.018659  0.083621  0.146717  ...  0.111714 -0.151049  0.130927  0.085145   \n",
       "\n",
       "         296       297       298       299   target  cluster  \n",
       "0  -0.262590  0.111565  0.458182  0.592877  Centers        0  \n",
       "1  -0.067530  0.081365  0.264425  0.230328  Centers        1  \n",
       "2  -0.019599  0.305010  0.238988  0.224319  Centers        2  \n",
       "3  -0.126223  0.059471  0.198156  0.123116  Centers        3  \n",
       "4  -0.032943  0.019000  0.177469  0.276702  Centers        4  \n",
       "5  -0.130876  0.111941  0.416253  0.314376  Centers        5  \n",
       "6   0.179889  0.075283  0.218493  0.403985  Centers        6  \n",
       "7   0.223128 -0.000346 -0.002639 -0.046647  Centers        7  \n",
       "8   0.088357 -0.205411  0.403605  0.385065  Centers        8  \n",
       "9  -0.100416  0.344699  0.249794 -0.119383  Centers        9  \n",
       "10 -0.047803 -0.193392  0.092602  0.002020  Centers       10  \n",
       "11  0.008471  0.407673  0.338305  0.013273  Centers       11  \n",
       "12 -0.267120  0.206095  0.207614  0.302273  Centers       12  \n",
       "\n",
       "[13 rows x 302 columns]"
      ]
     },
     "execution_count": 30,
     "metadata": {},
     "output_type": "execute_result"
    }
   ],
   "source": [
    "kmm_cluster_labels = kmm.predict(clusters)\n",
    "d2['cluster'] = kmm_cluster_labels\n",
    "d2"
   ]
  },
  {
   "cell_type": "code",
   "execution_count": 31,
   "metadata": {},
   "outputs": [
    {
     "data": {
      "text/html": [
       "<div>\n",
       "<style scoped>\n",
       "    .dataframe tbody tr th:only-of-type {\n",
       "        vertical-align: middle;\n",
       "    }\n",
       "\n",
       "    .dataframe tbody tr th {\n",
       "        vertical-align: top;\n",
       "    }\n",
       "\n",
       "    .dataframe thead th {\n",
       "        text-align: right;\n",
       "    }\n",
       "</style>\n",
       "<table border=\"1\" class=\"dataframe\">\n",
       "  <thead>\n",
       "    <tr style=\"text-align: right;\">\n",
       "      <th></th>\n",
       "      <th>0</th>\n",
       "      <th>1</th>\n",
       "      <th>cluster</th>\n",
       "    </tr>\n",
       "  </thead>\n",
       "  <tbody>\n",
       "    <tr>\n",
       "      <th>0</th>\n",
       "      <td>-2.319947</td>\n",
       "      <td>-0.684130</td>\n",
       "      <td>0</td>\n",
       "    </tr>\n",
       "    <tr>\n",
       "      <th>1</th>\n",
       "      <td>-0.849046</td>\n",
       "      <td>0.228242</td>\n",
       "      <td>1</td>\n",
       "    </tr>\n",
       "    <tr>\n",
       "      <th>2</th>\n",
       "      <td>-0.561444</td>\n",
       "      <td>-0.312990</td>\n",
       "      <td>2</td>\n",
       "    </tr>\n",
       "    <tr>\n",
       "      <th>3</th>\n",
       "      <td>0.108762</td>\n",
       "      <td>-0.220909</td>\n",
       "      <td>3</td>\n",
       "    </tr>\n",
       "    <tr>\n",
       "      <th>4</th>\n",
       "      <td>-0.100561</td>\n",
       "      <td>-0.386190</td>\n",
       "      <td>4</td>\n",
       "    </tr>\n",
       "    <tr>\n",
       "      <th>5</th>\n",
       "      <td>-0.617544</td>\n",
       "      <td>-0.388870</td>\n",
       "      <td>5</td>\n",
       "    </tr>\n",
       "    <tr>\n",
       "      <th>6</th>\n",
       "      <td>-0.891794</td>\n",
       "      <td>-0.809844</td>\n",
       "      <td>6</td>\n",
       "    </tr>\n",
       "    <tr>\n",
       "      <th>7</th>\n",
       "      <td>3.626372</td>\n",
       "      <td>-0.796608</td>\n",
       "      <td>7</td>\n",
       "    </tr>\n",
       "    <tr>\n",
       "      <th>8</th>\n",
       "      <td>1.548586</td>\n",
       "      <td>0.660981</td>\n",
       "      <td>8</td>\n",
       "    </tr>\n",
       "    <tr>\n",
       "      <th>9</th>\n",
       "      <td>-0.075588</td>\n",
       "      <td>-0.745006</td>\n",
       "      <td>9</td>\n",
       "    </tr>\n",
       "    <tr>\n",
       "      <th>10</th>\n",
       "      <td>-0.216893</td>\n",
       "      <td>3.227039</td>\n",
       "      <td>10</td>\n",
       "    </tr>\n",
       "    <tr>\n",
       "      <th>11</th>\n",
       "      <td>0.238088</td>\n",
       "      <td>-0.493968</td>\n",
       "      <td>11</td>\n",
       "    </tr>\n",
       "    <tr>\n",
       "      <th>12</th>\n",
       "      <td>0.111011</td>\n",
       "      <td>0.722254</td>\n",
       "      <td>12</td>\n",
       "    </tr>\n",
       "  </tbody>\n",
       "</table>\n",
       "</div>"
      ],
      "text/plain": [
       "           0         1  cluster\n",
       "0  -2.319947 -0.684130        0\n",
       "1  -0.849046  0.228242        1\n",
       "2  -0.561444 -0.312990        2\n",
       "3   0.108762 -0.220909        3\n",
       "4  -0.100561 -0.386190        4\n",
       "5  -0.617544 -0.388870        5\n",
       "6  -0.891794 -0.809844        6\n",
       "7   3.626372 -0.796608        7\n",
       "8   1.548586  0.660981        8\n",
       "9  -0.075588 -0.745006        9\n",
       "10 -0.216893  3.227039       10\n",
       "11  0.238088 -0.493968       11\n",
       "12  0.111011  0.722254       12"
      ]
     },
     "execution_count": 31,
     "metadata": {},
     "output_type": "execute_result"
    }
   ],
   "source": [
    "d2_2d = pca2.fit_transform(d2.iloc[:,:-2])\n",
    "d2_df = pd.DataFrame(d2_2d)\n",
    "d2_df['cluster'] = d2['cluster']\n",
    "d2_df"
   ]
  },
  {
   "cell_type": "code",
   "execution_count": 32,
   "metadata": {},
   "outputs": [
    {
     "data": {
      "image/png": "[encoded data removed]",
      "text/plain": [
       "<Figure size 576x576 with 1 Axes>"
      ]
     },
     "metadata": {
      "needs_background": "light"
     },
     "output_type": "display_data"
    }
   ],
   "source": [
    "fig = plt.figure(figsize = (8,8))\n",
    "plt.scatter(d1_df[0], d1_df[1], c = d1_df['cluster'], s = 10)\n",
    "plt.xlim([-4,4])\n",
    "plt.ylim([-4,4])\n",
    "plt.grid()\n",
    "plt.show()"
   ]
  },
  {
   "cell_type": "code",
   "execution_count": 33,
   "metadata": {},
   "outputs": [
    {
     "name": "stdout",
     "output_type": "stream",
     "text": [
      "11\n"
     ]
    },
    {
     "data": {
      "image/png": "[encoded data removed]",
      "text/plain": [
       "<Figure size 576x576 with 1 Axes>"
      ]
     },
     "metadata": {
      "needs_background": "light"
     },
     "output_type": "display_data"
    },
    {
     "name": "stdout",
     "output_type": "stream",
     "text": [
      "2\n"
     ]
    },
    {
     "data": {
      "image/png": "[encoded data removed]",
      "text/plain": [
       "<Figure size 576x576 with 1 Axes>"
      ]
     },
     "metadata": {
      "needs_background": "light"
     },
     "output_type": "display_data"
    },
    {
     "name": "stdout",
     "output_type": "stream",
     "text": [
      "9\n"
     ]
    },
    {
     "data": {
      "image/png": "[encoded data removed]",
      "text/plain": [
       "<Figure size 576x576 with 1 Axes>"
      ]
     },
     "metadata": {
      "needs_background": "light"
     },
     "output_type": "display_data"
    },
    {
     "name": "stdout",
     "output_type": "stream",
     "text": [
      "10\n"
     ]
    },
    {
     "data": {
      "image/png": "[encoded data removed]",
      "text/plain": [
       "<Figure size 576x576 with 1 Axes>"
      ]
     },
     "metadata": {
      "needs_background": "light"
     },
     "output_type": "display_data"
    },
    {
     "name": "stdout",
     "output_type": "stream",
     "text": [
      "4\n"
     ]
    },
    {
     "data": {
      "image/png": "[encoded data removed]",
      "text/plain": [
       "<Figure size 576x576 with 1 Axes>"
      ]
     },
     "metadata": {
      "needs_background": "light"
     },
     "output_type": "display_data"
    },
    {
     "name": "stdout",
     "output_type": "stream",
     "text": [
      "3\n"
     ]
    },
    {
     "data": {
      "image/png": "[encoded data removed]",
      "text/plain": [
       "<Figure size 576x576 with 1 Axes>"
      ]
     },
     "metadata": {
      "needs_background": "light"
     },
     "output_type": "display_data"
    },
    {
     "name": "stdout",
     "output_type": "stream",
     "text": [
      "5\n"
     ]
    },
    {
     "data": {
      "image/png": "[encoded data removed]",
      "text/plain": [
       "<Figure size 576x576 with 1 Axes>"
      ]
     },
     "metadata": {
      "needs_background": "light"
     },
     "output_type": "display_data"
    },
    {
     "name": "stdout",
     "output_type": "stream",
     "text": [
      "12\n"
     ]
    },
    {
     "data": {
      "image/png": "[encoded data removed]",
      "text/plain": [
       "<Figure size 576x576 with 1 Axes>"
      ]
     },
     "metadata": {
      "needs_background": "light"
     },
     "output_type": "display_data"
    },
    {
     "name": "stdout",
     "output_type": "stream",
     "text": [
      "1\n"
     ]
    },
    {
     "data": {
      "image/png": "[encoded data removed]",
      "text/plain": [
       "<Figure size 576x576 with 1 Axes>"
      ]
     },
     "metadata": {
      "needs_background": "light"
     },
     "output_type": "display_data"
    },
    {
     "name": "stdout",
     "output_type": "stream",
     "text": [
      "8\n"
     ]
    },
    {
     "data": {
      "image/png": "[encoded data removed]",
      "text/plain": [
       "<Figure size 576x576 with 1 Axes>"
      ]
     },
     "metadata": {
      "needs_background": "light"
     },
     "output_type": "display_data"
    },
    {
     "name": "stdout",
     "output_type": "stream",
     "text": [
      "6\n"
     ]
    },
    {
     "data": {
      "image/png": "[encoded data removed]",
      "text/plain": [
       "<Figure size 576x576 with 1 Axes>"
      ]
     },
     "metadata": {
      "needs_background": "light"
     },
     "output_type": "display_data"
    },
    {
     "name": "stdout",
     "output_type": "stream",
     "text": [
      "7\n"
     ]
    },
    {
     "data": {
      "image/png": "[encoded data removed]",
      "text/plain": [
       "<Figure size 576x576 with 1 Axes>"
      ]
     },
     "metadata": {
      "needs_background": "light"
     },
     "output_type": "display_data"
    },
    {
     "name": "stdout",
     "output_type": "stream",
     "text": [
      "0\n"
     ]
    },
    {
     "data": {
      "image/png": "[encoded data removed]",
      "text/plain": [
       "<Figure size 576x576 with 1 Axes>"
      ]
     },
     "metadata": {
      "needs_background": "light"
     },
     "output_type": "display_data"
    }
   ],
   "source": [
    "for cluster in un:\n",
    "    print(cluster)\n",
    "    fig = plt.figure(figsize = (8,8))\n",
    "    plt.scatter(d1_df[d1_df['cluster']==cluster][0], d1_df[d1_df['cluster']==cluster][1], s = 10)\n",
    "    plt.xlim([-4,4])\n",
    "    plt.ylim([-4,4])\n",
    "    plt.grid()\n",
    "    plt.show()"
   ]
  }
 ],
 "metadata": {
  "kernelspec": {
   "display_name": "Python 3",
   "language": "python",
   "name": "python3"
  },
  "language_info": {
   "codemirror_mode": {
    "name": "ipython",
    "version": 3
   },
   "file_extension": ".py",
   "mimetype": "text/x-python",
   "name": "python",
   "nbconvert_exporter": "python",
   "pygments_lexer": "ipython3",
   "version": "3.6.13"
  }
 },
 "nbformat": 4,
 "nbformat_minor": 4
}
